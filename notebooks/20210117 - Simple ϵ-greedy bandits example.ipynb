{
 "cells": [
  {
   "cell_type": "code",
   "execution_count": 7,
   "id": "478bafb9",
   "metadata": {},
   "outputs": [],
   "source": [
    "import random\n",
    "\n",
    "REWARD_CLICK = 1\n",
    "REWARD_NO_CLICK = 0\n",
    "\n",
    "\n",
    "class WebsiteEnvironmentSimple:\n",
    "    def __init__(self, proba):\n",
    "        self.proba = proba\n",
    "\n",
    "    def do(self, action):\n",
    "        reward = REWARD_CLICK if random.random() < self.proba[action] else REWARD_NO_CLICK\n",
    "        return reward"
   ]
  },
  {
   "cell_type": "code",
   "execution_count": 8,
   "id": "c9af9eec",
   "metadata": {},
   "outputs": [],
   "source": [
    "from abc import ABC, abstractmethod\n",
    "\n",
    "\n",
    "class BanditBase(ABC):\n",
    "    def __init__(self, K, env):\n",
    "        self.arms = list(range(K))\n",
    "        self.env = env\n",
    "        self.history = []\n",
    "\n",
    "    @abstractmethod\n",
    "    def get_action(self):\n",
    "        raise NotImplementedError()\n",
    "\n",
    "    def update(self, arm, reward):\n",
    "        self.history.append([arm, reward])\n",
    "        self._update(arm, reward)\n",
    "\n",
    "    @abstractmethod\n",
    "    def _update(self, arm, reward):\n",
    "        raise NotImplementedError()\n"
   ]
  },
  {
   "cell_type": "code",
   "execution_count": 71,
   "id": "ef4ee5c0",
   "metadata": {},
   "outputs": [],
   "source": [
    "import random\n",
    "import numpy as np\n",
    "\n",
    "class EpsilonGreedyBandit(BanditBase):\n",
    "    def __init__(self, ϵ, *args, **kwargs):\n",
    "        super().__init__(*args, **kwargs)\n",
    "        self.ϵ = ϵ\n",
    "        self.rewards = {arm: [] for arm in self.arms}\n",
    "    \n",
    "    def get_action(self):\n",
    "        if random.random() < self.ϵ:\n",
    "            action = random.choice(self.arms)\n",
    "        else:\n",
    "            action = np.argmax([np.mean(arm_rewards) for arm_rewards in self.rewards.values()])\n",
    "        \n",
    "        return action\n",
    "    \n",
    "    def _update(self, arm, reward):\n",
    "        self.rewards[arm].append(reward)"
   ]
  },
  {
   "cell_type": "code",
   "execution_count": 72,
   "id": "a1a206bb",
   "metadata": {},
   "outputs": [],
   "source": [
    "conversion_rates = [0.15, 0.13]\n",
    "env = WebsiteEnvironmentSimple(conversion_rates)"
   ]
  },
  {
   "cell_type": "code",
   "execution_count": 73,
   "id": "cb4aa78d",
   "metadata": {},
   "outputs": [],
   "source": [
    "bandit = EpsilonGreedyBandit(ϵ=0.3, K=2, env=env)"
   ]
  },
  {
   "cell_type": "code",
   "execution_count": 74,
   "id": "d0d8a336",
   "metadata": {},
   "outputs": [
    {
     "name": "stderr",
     "output_type": "stream",
     "text": [
      "C:\\Users\\rutger\\miniconda3\\envs\\pomp\\lib\\site-packages\\numpy\\core\\fromnumeric.py:3474: RuntimeWarning: Mean of empty slice.\n",
      "  return _methods._mean(a, axis=axis, dtype=dtype,\n",
      "C:\\Users\\rutger\\miniconda3\\envs\\pomp\\lib\\site-packages\\numpy\\core\\_methods.py:189: RuntimeWarning: invalid value encountered in double_scalars\n",
      "  ret = ret.dtype.type(ret / rcount)\n"
     ]
    }
   ],
   "source": [
    "for _ in range(10_000):\n",
    "    action = bandit.get_action()\n",
    "    reward = env.do(action)\n",
    "    bandit.update(action, reward)"
   ]
  },
  {
   "cell_type": "code",
   "execution_count": 75,
   "id": "20142169",
   "metadata": {},
   "outputs": [
    {
     "data": {
      "text/plain": [
       "0.14864197530864198"
      ]
     },
     "execution_count": 75,
     "metadata": {},
     "output_type": "execute_result"
    }
   ],
   "source": [
    "np.mean(bandit.rewards[0])"
   ]
  },
  {
   "cell_type": "code",
   "execution_count": 76,
   "id": "02ae202b",
   "metadata": {},
   "outputs": [
    {
     "data": {
      "text/plain": [
       "0.12105263157894737"
      ]
     },
     "execution_count": 76,
     "metadata": {},
     "output_type": "execute_result"
    }
   ],
   "source": [
    "np.mean(bandit.rewards[1])"
   ]
  },
  {
   "cell_type": "code",
   "execution_count": 77,
   "id": "fec1a676",
   "metadata": {},
   "outputs": [],
   "source": [
    "import pandas as pd"
   ]
  },
  {
   "cell_type": "code",
   "execution_count": 78,
   "id": "43dc2531",
   "metadata": {},
   "outputs": [],
   "source": [
    "import matplotlib.pyplot as plt\n",
    "%matplotlib inline"
   ]
  },
  {
   "cell_type": "code",
   "execution_count": 79,
   "id": "580fa97a",
   "metadata": {},
   "outputs": [
    {
     "name": "stderr",
     "output_type": "stream",
     "text": [
      "C:\\Users\\rutger\\AppData\\Local\\Temp\\ipykernel_772\\2194647022.py:4: RuntimeWarning: invalid value encountered in true_divide\n",
      "  plt.plot(np.cumsum(bandit.rewards[0]) / np.linspace(0, n, n))\n"
     ]
    },
    {
     "data": {
      "text/plain": [
       "[<matplotlib.lines.Line2D at 0x1e7080f1040>]"
      ]
     },
     "execution_count": 79,
     "metadata": {},
     "output_type": "execute_result"
    },
    {
     "data": {
      "image/png": "[encoded data removed]",
      "text/plain": [
       "<Figure size 432x288 with 1 Axes>"
      ]
     },
     "metadata": {
      "needs_background": "light"
     },
     "output_type": "display_data"
    }
   ],
   "source": [
    "n = len(bandit.rewards[1])\n",
    "plt.plot(np.cumsum(bandit.rewards[1]) / np.linspace(1, n, n))\n",
    "n = len(bandit.rewards[0])\n",
    "plt.plot(np.cumsum(bandit.rewards[0]) / np.linspace(0, n, n))"
   ]
  }
 ],
 "metadata": {
  "kernelspec": {
   "display_name": "Python 3 (ipykernel)",
   "language": "python",
   "name": "python3"
  },
  "language_info": {
   "codemirror_mode": {
    "name": "ipython",
    "version": 3
   },
   "file_extension": ".py",
   "mimetype": "text/x-python",
   "name": "python",
   "nbconvert_exporter": "python",
   "pygments_lexer": "ipython3",
   "version": "3.9.7"
  }
 },
 "nbformat": 4,
 "nbformat_minor": 5
}

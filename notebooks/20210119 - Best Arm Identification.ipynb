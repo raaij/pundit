{
 "cells": [
  {
   "cell_type": "code",
   "execution_count": 1,
   "id": "9075893a",
   "metadata": {},
   "outputs": [],
   "source": [
    "import random\n",
    "\n",
    "REWARD_CLICK = 1\n",
    "REWARD_NO_CLICK = 0\n",
    "\n",
    "\n",
    "class WebsiteEnvironmentSimple:\n",
    "    def __init__(self, proba):\n",
    "        self.proba = proba\n",
    "\n",
    "    def do(self, action):\n",
    "        reward = REWARD_CLICK if random.random() < self.proba[action] else REWARD_NO_CLICK\n",
    "        return reward"
   ]
  },
  {
   "cell_type": "code",
   "execution_count": 2,
   "id": "016e5742",
   "metadata": {},
   "outputs": [],
   "source": [
    "from abc import ABC, abstractmethod\n",
    "\n",
    "\n",
    "class BanditBase(ABC):\n",
    "    def __init__(self, K, env):\n",
    "        self.arms = list(range(K))\n",
    "        self.env = env\n",
    "        self.history = []\n",
    "\n",
    "    @abstractmethod\n",
    "    def get_action(self):\n",
    "        raise NotImplementedError()\n",
    "\n",
    "    def update(self, arm, reward):\n",
    "        self.history.append([arm, reward])\n",
    "        self._update(arm, reward)\n",
    "\n",
    "    @abstractmethod\n",
    "    def _update(self, arm, reward):\n",
    "        raise NotImplementedError()\n"
   ]
  },
  {
   "cell_type": "code",
   "execution_count": 75,
   "id": "bdda8c4e",
   "metadata": {},
   "outputs": [],
   "source": [
    "import random\n",
    "import numpy as np\n",
    "import math\n",
    "from abc import abstractmethod\n",
    "\n",
    "class UGapEBandit(BanditBase):\n",
    "    def __init__(self, ϵ, m, *args, **kwargs):\n",
    "        super().__init__(*args, **kwargs)\n",
    "        self.ϵ = ϵ\n",
    "        self.m = m\n",
    "        \n",
    "        self.rewards = {arm: [] for arm in self.arms}\n",
    "    \n",
    "    def get_action(self):\n",
    "        # First, all arms have to be initialized by playing them once\n",
    "        for arm, rewards in self.rewards.items():\n",
    "            if len(rewards) == 0:\n",
    "                return arm\n",
    "            \n",
    "        B_t = self.get_regret_bound()\n",
    "        J_t = np.argsort(B_t)[::-1][:self.m]  # [::-1] reverses sorting\n",
    "        # arm = pull arm\n",
    "        arm = random.choice(self.arms)\n",
    "        return arm\n",
    "    \n",
    "    def get_regret_bound(self):\n",
    "        arm_reward_bound = []\n",
    "        \n",
    "        for arm in self.arms:\n",
    "            beta = self.get_arm_beta(arm)\n",
    "            mean_reward = np.mean(self.rewards[arm])\n",
    "            bound = (mean_reward - beta, mean_reward + beta)\n",
    "            arm_reward_bound.append(bound)\n",
    "        \n",
    "        arm_regret_bound = []\n",
    "        for k in set(self.arms):\n",
    "            values = []\n",
    "            lower_k = arm_reward_bound[k][0]\n",
    "            for i in set(self.arms) - {k}:\n",
    "                upper_i = arm_reward_bound[i][1]\n",
    "                values.append(upper_i - lower_k)\n",
    "            arm_regret_bound.append(max(values))\n",
    "        \n",
    "        return arm_regret_bound\n",
    "    \n",
    "    def _update(self, arm, reward):\n",
    "        self.rewards[arm].append(reward)\n",
    "    \n",
    "    @abstractmethod\n",
    "    def get_arm_beta(self, arm):\n",
    "        raise NotImplementedError()\n",
    "\n",
    "class UGapEBudgetBandit(UGapEBandit):\n",
    "    def __init__(self, ϵ, m, n, a, *args, **kwargs):\n",
    "        super().__init__(ϵ=ϵ, m=m, *args, **kwargs)\n",
    "        self.n = n\n",
    "        self.a = a\n",
    "    \n",
    "    def get_arm_beta(self, arm):\n",
    "        # TODO: b dynamic somehow, dependent on env'\n",
    "        #   in our case, b is just 1\n",
    "        \n",
    "        # T_k(t-1) is number of times arm k has been played\n",
    "        # up until t-1, which we can compute by the length\n",
    "        # of rewards list for the arm\n",
    "        return math.sqrt(self.a / len(self.rewards[arm]))\n",
    "\n",
    "class UGapEConfidenceBandit(UGapEBandit):\n",
    "    def __init__(self, ϵ, m, δ, c, *args, **kwargs):\n",
    "        super().__init__(ϵ=ϵ, m=m, *args, **kwargs)\n",
    "        self.δ = δ\n",
    "        self.c = c\n"
   ]
  },
  {
   "cell_type": "code",
   "execution_count": 76,
   "id": "02066531",
   "metadata": {},
   "outputs": [],
   "source": [
    "conversion_rates = [0.15, 0.13]\n",
    "env = WebsiteEnvironmentSimple(conversion_rates)"
   ]
  },
  {
   "cell_type": "code",
   "execution_count": 77,
   "id": "d30eb27e",
   "metadata": {},
   "outputs": [],
   "source": [
    "bandit = UGapEBudgetBandit(ϵ=0.3, m=1, n=2, a=1, K=2, env=env)"
   ]
  },
  {
   "cell_type": "code",
   "execution_count": 86,
   "id": "a5abbcd5",
   "metadata": {},
   "outputs": [
    {
     "name": "stdout",
     "output_type": "stream",
     "text": [
      "[1]\n",
      "[0]\n",
      "[0]\n",
      "[0]\n",
      "[0]\n"
     ]
    }
   ],
   "source": [
    "for _ in range(5):\n",
    "    action = bandit.get_action()\n",
    "    reward = env.do(action)\n",
    "    bandit.update(action, reward)"
   ]
  },
  {
   "cell_type": "code",
   "execution_count": 87,
   "id": "a4e26dd6",
   "metadata": {},
   "outputs": [
    {
     "data": {
      "text/plain": [
       "{0: [0, 0, 0, 0, 0, 0, 0, 0], 1: [0, 0, 0, 0, 0, 1, 0]}"
      ]
     },
     "execution_count": 87,
     "metadata": {},
     "output_type": "execute_result"
    }
   ],
   "source": [
    "bandit.rewards"
   ]
  },
  {
   "cell_type": "code",
   "execution_count": 88,
   "id": "45019557",
   "metadata": {},
   "outputs": [],
   "source": [
    "B_t = bandit.get_regret_bound()"
   ]
  },
  {
   "cell_type": "code",
   "execution_count": 89,
   "id": "eb62056a",
   "metadata": {},
   "outputs": [
    {
     "data": {
      "text/plain": [
       "[0.8743750064596438, 0.5886607207453581]"
      ]
     },
     "execution_count": 89,
     "metadata": {},
     "output_type": "execute_result"
    }
   ],
   "source": [
    "B_t"
   ]
  },
  {
   "cell_type": "code",
   "execution_count": 90,
   "id": "3f8796bf",
   "metadata": {},
   "outputs": [
    {
     "data": {
      "text/plain": [
       "1"
      ]
     },
     "execution_count": 90,
     "metadata": {},
     "output_type": "execute_result"
    }
   ],
   "source": [
    "np.argsort(B_t)[::-1][1]"
   ]
  },
  {
   "cell_type": "code",
   "execution_count": 53,
   "id": "cc9a30d1",
   "metadata": {},
   "outputs": [
    {
     "data": {
      "text/plain": [
       "0.5"
      ]
     },
     "execution_count": 53,
     "metadata": {},
     "output_type": "execute_result"
    }
   ],
   "source": [
    "math.sqrt(a / len(bandit.rewards[0]))"
   ]
  },
  {
   "cell_type": "code",
   "execution_count": 54,
   "id": "92ced70b",
   "metadata": {},
   "outputs": [
    {
     "data": {
      "text/plain": [
       "-0.25"
      ]
     },
     "execution_count": 54,
     "metadata": {},
     "output_type": "execute_result"
    }
   ],
   "source": [
    "0.25-0.5"
   ]
  },
  {
   "cell_type": "code",
   "execution_count": null,
   "id": "5a1d81db",
   "metadata": {},
   "outputs": [],
   "source": []
  }
 ],
 "metadata": {
  "kernelspec": {
   "display_name": "Python 3 (ipykernel)",
   "language": "python",
   "name": "python3"
  },
  "language_info": {
   "codemirror_mode": {
    "name": "ipython",
    "version": 3
   },
   "file_extension": ".py",
   "mimetype": "text/x-python",
   "name": "python",
   "nbconvert_exporter": "python",
   "pygments_lexer": "ipython3",
   "version": "3.9.7"
  }
 },
 "nbformat": 4,
 "nbformat_minor": 5
}

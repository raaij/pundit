{
 "cells": [
  {
   "cell_type": "code",
   "execution_count": 1,
   "id": "15254029",
   "metadata": {},
   "outputs": [],
   "source": [
    "import random\n",
    "from itertools import product"
   ]
  },
  {
   "cell_type": "code",
   "execution_count": 2,
   "id": "411cbab7",
   "metadata": {},
   "outputs": [],
   "source": [
    "COMBINATIONS = list(product(*[[1,2] for _ in range(3)]))"
   ]
  },
  {
   "cell_type": "code",
   "execution_count": 3,
   "id": "75bdb39d",
   "metadata": {},
   "outputs": [],
   "source": [
    "P_CLICK = [0.1, 0.12, 0.09, 0.095, 0.06, 0.01, 0.05, 0.08]"
   ]
  },
  {
   "cell_type": "code",
   "execution_count": 4,
   "id": "e17d5cfb",
   "metadata": {},
   "outputs": [],
   "source": [
    "class Env:\n",
    "    def play(self, action):\n",
    "        return int(random.random() < P_CLICK[action])"
   ]
  },
  {
   "cell_type": "code",
   "execution_count": 5,
   "id": "1fcda61c",
   "metadata": {},
   "outputs": [],
   "source": [
    "env = Env()"
   ]
  },
  {
   "cell_type": "code",
   "execution_count": 6,
   "id": "07db89ae",
   "metadata": {},
   "outputs": [
    {
     "name": "stdout",
     "output_type": "stream",
     "text": [
      "Combination (1, 1, 1)\n",
      "P(Click) 0.1\n"
     ]
    }
   ],
   "source": [
    "action = 0\n",
    "print('Combination', COMBINATIONS[action])\n",
    "print('P(Click)', P_CLICK[action])"
   ]
  },
  {
   "cell_type": "code",
   "execution_count": 7,
   "id": "06cd7c88",
   "metadata": {},
   "outputs": [],
   "source": [
    "NUMBER_OF_ARMS = len(COMBINATIONS)"
   ]
  },
  {
   "cell_type": "code",
   "execution_count": 8,
   "id": "d03bc5d5",
   "metadata": {},
   "outputs": [],
   "source": [
    "from copy import copy"
   ]
  },
  {
   "cell_type": "code",
   "execution_count": 9,
   "id": "4a4751cf",
   "metadata": {},
   "outputs": [],
   "source": [
    "import math"
   ]
  },
  {
   "cell_type": "code",
   "execution_count": 10,
   "id": "f72f0fbb",
   "metadata": {},
   "outputs": [],
   "source": [
    "class UGapEb:\n",
    "    def __init__(self, ϵ, m, n, a):\n",
    "        self.ϵ = ϵ\n",
    "        self.m = m\n",
    "        self.n = n\n",
    "        self.a = a\n",
    "        \n",
    "        self.history = {arm: [] for arm in range(NUMBER_OF_ARMS)}\n",
    "        self.play_counts = []\n",
    "        self.current_play_count = [0 for _ in range(NUMBER_OF_ARMS)]\n",
    "        self.env = Env()\n",
    "        \n",
    "        self.β_history = []\n",
    "        self.μ_hat_history = []\n",
    "    \n",
    "    def run(self):\n",
    "        for arm in range(NUMBER_OF_ARMS):\n",
    "            reward = self.env.play(arm)\n",
    "            self.update(arm, reward)\n",
    "            \n",
    "        for t in range(NUMBER_OF_ARMS, self.n):\n",
    "            self.select_arm(t)\n",
    "    \n",
    "    def select_arm(self, t):\n",
    "        B = self.compute_B()\n",
    "        print(B)\n",
    "    \n",
    "    def update(self, arm, reward):\n",
    "        self.history[arm].append(reward)\n",
    "        self.current_play_count[arm] += 1\n",
    "        self.play_counts.append(copy(self.current_play_count))\n",
    "        \n",
    "        # what is b? here it's just 1\n",
    "        β = [\n",
    "            0 if self.current_play_count[arm] == 0 else 1 * math.sqrt(self.a / self.current_play_count[arm])\n",
    "            for arm in range(NUMBER_OF_ARMS)\n",
    "        ]\n",
    "        self.β_history.append(β)\n",
    "        \n",
    "        μ_hat = [\n",
    "            0 if self.current_play_count[arm] == 0 else sum(self.history[arm]) / self.current_play_count[arm]\n",
    "            for arm in range(NUMBER_OF_ARMS)\n",
    "        ]\n",
    "        self.μ_hat_history.append(μ_hat)\n",
    "        \n",
    "    def compute_B(self):\n",
    "        U = [self.μ_hat_history[-2][arm] + self.β_history[-2][arm] for arm in range(NUMBER_OF_ARMS)]\n",
    "        L = [self.μ_hat_history[-2][arm] - self.β_history[-2][arm] for arm in range(NUMBER_OF_ARMS)]\n",
    "        \n",
    "        B = []\n",
    "        for arm in range(NUMBER_OF_ARMS):\n",
    "            U_not_arm = []\n",
    "            for i in range(NUMBER_OF_ARMS):\n",
    "                if i == arm:\n",
    "                    continue\n",
    "                U_not_arm.append(U[arm])\n",
    "                \n",
    "            U_max_not_arm = max(U_not_arm)\n",
    "            B.append(U_max_not_arm - L[arm])\n",
    "        \n",
    "        return B "
   ]
  },
  {
   "cell_type": "code",
   "execution_count": 11,
   "id": "a5231126",
   "metadata": {},
   "outputs": [
    {
     "name": "stdout",
     "output_type": "stream",
     "text": [
      "[2.0, 2.0, 2.0, 2.0, 2.0, 2.0, 2.0, 0]\n",
      "[2.0, 2.0, 2.0, 2.0, 2.0, 2.0, 2.0, 0]\n"
     ]
    }
   ],
   "source": [
    "algo = UGapEb(1, 1, 10, 1)\n",
    "algo.run()"
   ]
  },
  {
   "cell_type": "code",
   "execution_count": 12,
   "id": "b043eae2",
   "metadata": {},
   "outputs": [
    {
     "data": {
      "text/plain": "[[0.0, 0, 0, 0, 0, 0, 0, 0],\n [0.0, 1.0, 0, 0, 0, 0, 0, 0],\n [0.0, 1.0, 0.0, 0, 0, 0, 0, 0],\n [0.0, 1.0, 0.0, 0.0, 0, 0, 0, 0],\n [0.0, 1.0, 0.0, 0.0, 0.0, 0, 0, 0],\n [0.0, 1.0, 0.0, 0.0, 0.0, 0.0, 0, 0],\n [0.0, 1.0, 0.0, 0.0, 0.0, 0.0, 1.0, 0],\n [0.0, 1.0, 0.0, 0.0, 0.0, 0.0, 1.0, 0.0]]"
     },
     "execution_count": 12,
     "metadata": {},
     "output_type": "execute_result"
    }
   ],
   "source": [
    "algo.μ_hat_history"
   ]
  },
  {
   "cell_type": "code",
   "execution_count": null,
   "id": "52116be1",
   "metadata": {},
   "outputs": [],
   "source": []
  }
 ],
 "metadata": {
  "kernelspec": {
   "display_name": "Python 3 (ipykernel)",
   "language": "python",
   "name": "python3"
  },
  "language_info": {
   "codemirror_mode": {
    "name": "ipython",
    "version": 3
   },
   "file_extension": ".py",
   "mimetype": "text/x-python",
   "name": "python",
   "nbconvert_exporter": "python",
   "pygments_lexer": "ipython3",
   "version": "3.9.7"
  }
 },
 "nbformat": 4,
 "nbformat_minor": 5
}
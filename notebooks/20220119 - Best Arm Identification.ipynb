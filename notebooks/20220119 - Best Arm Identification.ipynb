{
 "cells": [
  {
   "cell_type": "code",
   "execution_count": 2,
   "id": "9075893a",
   "metadata": {},
   "outputs": [],
   "source": [
    "import random\n",
    "\n",
    "REWARD_CLICK = 1\n",
    "REWARD_NO_CLICK = 0\n",
    "\n",
    "\n",
    "class WebsiteEnvironmentSimple:\n",
    "    def __init__(self, proba):\n",
    "        self.proba = proba\n",
    "\n",
    "    def do(self, action):\n",
    "        reward = REWARD_CLICK if random.random() < self.proba[action] else REWARD_NO_CLICK\n",
    "        return reward"
   ]
  },
  {
   "cell_type": "code",
   "execution_count": 3,
   "id": "016e5742",
   "metadata": {},
   "outputs": [],
   "source": [
    "from abc import ABC, abstractmethod\n",
    "\n",
    "\n",
    "class BanditBase(ABC):\n",
    "    def __init__(self, K, env):\n",
    "        self.arms = list(range(K))\n",
    "        self.env = env\n",
    "        self.history = []\n",
    "\n",
    "    @abstractmethod\n",
    "    def get_action(self):\n",
    "        raise NotImplementedError()\n",
    "\n",
    "    def update(self, arm, reward):\n",
    "        self.history.append([arm, reward])\n",
    "        self._update(arm, reward)\n",
    "\n",
    "    @abstractmethod\n",
    "    def _update(self, arm, reward):\n",
    "        raise NotImplementedError()\n"
   ]
  },
  {
   "cell_type": "code",
   "execution_count": 4,
   "id": "bdda8c4e",
   "metadata": {},
   "outputs": [],
   "source": [
    "import random\n",
    "import numpy as np\n",
    "import math\n",
    "from abc import abstractmethod\n",
    "\n",
    "class UGapEBandit(BanditBase):\n",
    "    def __init__(self, ϵ, m, *args, **kwargs):\n",
    "        super().__init__(*args, **kwargs)\n",
    "        self.ϵ = ϵ\n",
    "        self.m = m\n",
    "        \n",
    "        self.rewards = {arm: [] for arm in self.arms}\n",
    "    \n",
    "    def get_regret_bound(self):\n",
    "        betas_arms = []\n",
    "        bounds_arms = []\n",
    "        for arm in self.arms:\n",
    "            arm_beta = self.get_arm_beta(arm)\n",
    "            betas_arms.append(arm_beta)\n",
    "            bounds_arms.append((\n",
    "                np.mean(self.rewards[arm]) - arm_beta,\n",
    "                np.mean(self.rewards[arm]) + arm_beta\n",
    "            ))\n",
    "        \n",
    "        regret_bound = []\n",
    "        for arm_k in set(self.arms):\n",
    "            values = []\n",
    "            for arm_i in set(self.arms) - {arm}:\n",
    "                U_i = bounds_arms[arm_i][1]\n",
    "                L_k = bounds_arms[arm_k][0]\n",
    "                values.append(U_i - L_k)\n",
    "            regret_bound.append(max(values))\n",
    "                                \n",
    "        return regret_bound, bounds_arms, betas_arms\n",
    "        \n",
    "    \n",
    "    def get_action(self):\n",
    "        # Makes sure we have played every arm at least once\n",
    "        for arm, rewards in self.rewards.items():\n",
    "            if len(rewards) == 0:\n",
    "                return arm\n",
    "            \n",
    "        B_t, bounds_arms, β_t = self.get_regret_bound()\n",
    "        L_t = [b[0] for b in bounds_arms]\n",
    "        U_t = [b[1] for b in bounds_arms]\n",
    "        J_t = np.argsort(B_t)[:self.m]\n",
    "\n",
    "        u_t = list(set(self.arms) - set(J_t))[np.argmax([\n",
    "            U_t[arm] for arm in set(self.arms) - set(J_t)\n",
    "        ])]\n",
    "        l_t = J_t[np.argmax([\n",
    "            L_t[arm] for arm in J_t\n",
    "        ])]\n",
    "        \n",
    "        arm = u_t if β_t[u_t] > β_t[l_t] else l_t\n",
    "\n",
    "        return arm\n",
    "\n",
    "    def _update(self, arm, reward):\n",
    "        self.rewards[arm].append(reward)\n",
    "\n",
    "class UGapEBudgetBandit(UGapEBandit):\n",
    "    def __init__(self, ϵ, m, n, a, *args, **kwargs):\n",
    "        super().__init__(ϵ=ϵ, m=m, *args, **kwargs)\n",
    "        self.n = n\n",
    "        self.a = a\n",
    "    \n",
    "    def get_arm_beta(self, arm):\n",
    "        # b = 1\n",
    "        return math.sqrt(self.a / len(self.rewards[arm]))"
   ]
  },
  {
   "cell_type": "code",
   "execution_count": 14,
   "id": "02066531",
   "metadata": {},
   "outputs": [],
   "source": [
    "conversion_rates = [0.15, 0.01, 0.02, 0.03]\n",
    "env = WebsiteEnvironmentSimple(conversion_rates)"
   ]
  },
  {
   "cell_type": "code",
   "execution_count": 15,
   "id": "d30eb27e",
   "metadata": {},
   "outputs": [],
   "source": [
    "bandit = UGapEBudgetBandit(ϵ=0.3, m=1, K=4, n=4, a=1/2, env=env)"
   ]
  },
  {
   "cell_type": "code",
   "execution_count": 16,
   "id": "a5abbcd5",
   "metadata": {},
   "outputs": [],
   "source": [
    "data = []\n",
    "for _ in range(2000):\n",
    "    action = bandit.get_action()\n",
    "    reward = env.do(action)\n",
    "    data.append({\n",
    "        'action': action,\n",
    "        'reward': reward\n",
    "    })\n",
    "    bandit.update(action, reward)"
   ]
  },
  {
   "cell_type": "code",
   "execution_count": 17,
   "id": "a4e26dd6",
   "metadata": {},
   "outputs": [
    {
     "data": {
      "text/html": [
       "<div>\n",
       "<style scoped>\n",
       "    .dataframe tbody tr th:only-of-type {\n",
       "        vertical-align: middle;\n",
       "    }\n",
       "\n",
       "    .dataframe tbody tr th {\n",
       "        vertical-align: top;\n",
       "    }\n",
       "\n",
       "    .dataframe thead th {\n",
       "        text-align: right;\n",
       "    }\n",
       "</style>\n",
       "<table border=\"1\" class=\"dataframe\">\n",
       "  <thead>\n",
       "    <tr style=\"text-align: right;\">\n",
       "      <th></th>\n",
       "      <th>reward</th>\n",
       "    </tr>\n",
       "    <tr>\n",
       "      <th>action</th>\n",
       "      <th></th>\n",
       "    </tr>\n",
       "  </thead>\n",
       "  <tbody>\n",
       "    <tr>\n",
       "      <th>0</th>\n",
       "      <td>774</td>\n",
       "    </tr>\n",
       "    <tr>\n",
       "      <th>1</th>\n",
       "      <td>150</td>\n",
       "    </tr>\n",
       "    <tr>\n",
       "      <th>2</th>\n",
       "      <td>302</td>\n",
       "    </tr>\n",
       "    <tr>\n",
       "      <th>3</th>\n",
       "      <td>774</td>\n",
       "    </tr>\n",
       "  </tbody>\n",
       "</table>\n",
       "</div>"
      ],
      "text/plain": [
       "        reward\n",
       "action        \n",
       "0          774\n",
       "1          150\n",
       "2          302\n",
       "3          774"
      ]
     },
     "execution_count": 17,
     "metadata": {},
     "output_type": "execute_result"
    }
   ],
   "source": [
    "import pandas as pd\n",
    "data = pd.DataFrame(data)\n",
    "data.groupby('action').count()"
   ]
  },
  {
   "cell_type": "markdown",
   "id": "dcb72bd3",
   "metadata": {},
   "source": [
    "Kinda weird \\\n",
    "Is this what it means to do best arm identification instead of regret minimization? If so, do website designers really want this?"
   ]
  }
 ],
 "metadata": {
  "kernelspec": {
   "display_name": "Python 3 (ipykernel)",
   "language": "python",
   "name": "python3"
  },
  "language_info": {
   "codemirror_mode": {
    "name": "ipython",
    "version": 3
   },
   "file_extension": ".py",
   "mimetype": "text/x-python",
   "name": "python",
   "nbconvert_exporter": "python",
   "pygments_lexer": "ipython3",
   "version": "3.9.7"
  }
 },
 "nbformat": 4,
 "nbformat_minor": 5
}

{
 "cells": [
  {
   "cell_type": "code",
   "execution_count": 162,
   "id": "4c7793a9",
   "metadata": {},
   "outputs": [],
   "source": [
    "import random\n",
    "import itertools\n",
    "import matplotlib.pyplot as plt\n",
    "import seaborn as sns \n",
    "import pandas as pd\n",
    "import numpy as np \n",
    "import math\n",
    "import statsmodels.api as sm\n",
    "from statsmodels.formula.api import ols\n",
    "%matplotlib inline"
   ]
  },
  {
   "cell_type": "markdown",
   "id": "fca7d9e6",
   "metadata": {},
   "source": [
    "### Method 1"
   ]
  },
  {
   "cell_type": "code",
   "execution_count": 163,
   "id": "b5023a32",
   "metadata": {},
   "outputs": [],
   "source": [
    "C = 0.25\n",
    "n = 3\n",
    "\n",
    "n_h = 3\n",
    "n_d = 2\n",
    "n_i = 3\n",
    "\n",
    "α_h = [random.uniform(0, C / n) for _ in range(n_h)]\n",
    "α_d = [random.uniform(0, C / n) for _ in range(n_d)]\n",
    "α_i = [random.uniform(0, C / n) for _ in range(n_i)]\n",
    "\n",
    "combinations = {}\n",
    "for combination in list(itertools.product(*[\n",
    "    range(0, n_asset) for n_asset in [n_h, n_d, n_i]\n",
    "])):\n",
    "    h, d, i = combination\n",
    "    combinations[combination] = α_h[h] + α_d[d] + α_i[i]"
   ]
  },
  {
   "cell_type": "code",
   "execution_count": 164,
   "id": "e64dc106",
   "metadata": {},
   "outputs": [
    {
     "data": {
      "text/html": [
       "<div>\n",
       "<style scoped>\n",
       "    .dataframe tbody tr th:only-of-type {\n",
       "        vertical-align: middle;\n",
       "    }\n",
       "\n",
       "    .dataframe tbody tr th {\n",
       "        vertical-align: top;\n",
       "    }\n",
       "\n",
       "    .dataframe thead th {\n",
       "        text-align: right;\n",
       "    }\n",
       "</style>\n",
       "<table border=\"1\" class=\"dataframe\">\n",
       "  <thead>\n",
       "    <tr style=\"text-align: right;\">\n",
       "      <th></th>\n",
       "      <th>0</th>\n",
       "    </tr>\n",
       "  </thead>\n",
       "  <tbody>\n",
       "    <tr>\n",
       "      <th>(2, 1, 1)</th>\n",
       "      <td>0.113799</td>\n",
       "    </tr>\n",
       "    <tr>\n",
       "      <th>(0, 0, 2)</th>\n",
       "      <td>0.119852</td>\n",
       "    </tr>\n",
       "    <tr>\n",
       "      <th>(0, 1, 2)</th>\n",
       "      <td>0.120441</td>\n",
       "    </tr>\n",
       "    <tr>\n",
       "      <th>(0, 0, 1)</th>\n",
       "      <td>0.120578</td>\n",
       "    </tr>\n",
       "    <tr>\n",
       "      <th>(0, 1, 1)</th>\n",
       "      <td>0.121166</td>\n",
       "    </tr>\n",
       "  </tbody>\n",
       "</table>\n",
       "</div>"
      ],
      "text/plain": [
       "                  0\n",
       "(2, 1, 1)  0.113799\n",
       "(0, 0, 2)  0.119852\n",
       "(0, 1, 2)  0.120441\n",
       "(0, 0, 1)  0.120578\n",
       "(0, 1, 1)  0.121166"
      ]
     },
     "execution_count": 164,
     "metadata": {},
     "output_type": "execute_result"
    }
   ],
   "source": [
    "pd.DataFrame.from_dict(combinations, orient='index').sort_values(0).tail(5)"
   ]
  },
  {
   "cell_type": "code",
   "execution_count": 165,
   "id": "56b26dff",
   "metadata": {
    "scrolled": true
   },
   "outputs": [
    {
     "data": {
      "text/plain": [
       "<AxesSubplot:>"
      ]
     },
     "execution_count": 165,
     "metadata": {},
     "output_type": "execute_result"
    },
    {
     "data": {
      "image/png": "[encoded data removed]",
      "text/plain": [
       "<Figure size 432x288 with 1 Axes>"
      ]
     },
     "metadata": {
      "needs_background": "light"
     },
     "output_type": "display_data"
    }
   ],
   "source": [
    "pd.DataFrame.from_dict(combinations, orient='index').sort_values(0).plot.barh()"
   ]
  },
  {
   "cell_type": "markdown",
   "id": "384c16f1",
   "metadata": {},
   "source": [
    "Simulated data"
   ]
  },
  {
   "cell_type": "code",
   "execution_count": 166,
   "id": "0bac3c4d",
   "metadata": {},
   "outputs": [],
   "source": [
    "data = []\n",
    "idx = 0\n",
    "for combination, p in combinations.items():\n",
    "    clicks = (np.random.random(1000) <= p).astype('int')\n",
    "    for click in clicks:\n",
    "        data.append({\n",
    "            'combination': combination,\n",
    "            'click': click,\n",
    "            'id': idx\n",
    "        })\n",
    "        idx += 1"
   ]
  },
  {
   "cell_type": "code",
   "execution_count": 167,
   "id": "71011632",
   "metadata": {},
   "outputs": [
    {
     "data": {
      "text/plain": [
       "<AxesSubplot:ylabel='combination'>"
      ]
     },
     "execution_count": 167,
     "metadata": {},
     "output_type": "execute_result"
    },
    {
     "data": {
      "image/png": "[encoded data removed]",
      "text/plain": [
       "<Figure size 432x288 with 1 Axes>"
      ]
     },
     "metadata": {
      "needs_background": "light"
     },
     "output_type": "display_data"
    }
   ],
   "source": [
    "pd.DataFrame(data).groupby('combination')[['click']].mean().sort_values('click').plot.barh()"
   ]
  },
  {
   "cell_type": "code",
   "execution_count": 169,
   "id": "cbab645e",
   "metadata": {},
   "outputs": [
    {
     "data": {
      "text/plain": [
       "<AxesSubplot:xlabel='combination'>"
      ]
     },
     "execution_count": 169,
     "metadata": {},
     "output_type": "execute_result"
    },
    {
     "data": {
      "image/png": "[encoded data removed]",
      "text/plain": [
       "<Figure size 432x288 with 1 Axes>"
      ]
     },
     "metadata": {
      "needs_background": "light"
     },
     "output_type": "display_data"
    }
   ],
   "source": [
    "pd.DataFrame(data).groupby('combination')[['click']].mean().sort_values('click').plot()"
   ]
  },
  {
   "cell_type": "code",
   "execution_count": 168,
   "id": "0155861d",
   "metadata": {},
   "outputs": [],
   "source": [
    "dff = pd.DataFrame(data).groupby('combination').agg({\n",
    "    'click': [list, 'mean']\n",
    "})\n",
    "dff.columns = ['sample', 'mean']\n",
    "dff = dff.reset_index()\n",
    "dff = dff.sort_values('mean')\n",
    "# samples = pd.DataFrame(data).groupby('combination')['click'].apply(list).values"
   ]
  },
  {
   "cell_type": "code",
   "execution_count": 61,
   "id": "55b6b53b",
   "metadata": {},
   "outputs": [
    {
     "data": {
      "text/html": [
       "<div>\n",
       "<style scoped>\n",
       "    .dataframe tbody tr th:only-of-type {\n",
       "        vertical-align: middle;\n",
       "    }\n",
       "\n",
       "    .dataframe tbody tr th {\n",
       "        vertical-align: top;\n",
       "    }\n",
       "\n",
       "    .dataframe thead th {\n",
       "        text-align: right;\n",
       "    }\n",
       "</style>\n",
       "<table border=\"1\" class=\"dataframe\">\n",
       "  <thead>\n",
       "    <tr style=\"text-align: right;\">\n",
       "      <th></th>\n",
       "      <th>combination</th>\n",
       "      <th>sample</th>\n",
       "      <th>mean</th>\n",
       "    </tr>\n",
       "  </thead>\n",
       "  <tbody>\n",
       "    <tr>\n",
       "      <th>0</th>\n",
       "      <td>(0, 0, 0)</td>\n",
       "      <td>[0, 0, 0, 0, 0, 0, 0, 0, 0, 0, 0, 0, 0, 0, 0, ...</td>\n",
       "      <td>0.044</td>\n",
       "    </tr>\n",
       "    <tr>\n",
       "      <th>6</th>\n",
       "      <td>(1, 0, 0)</td>\n",
       "      <td>[0, 0, 0, 0, 0, 0, 0, 0, 0, 0, 0, 0, 0, 0, 0, ...</td>\n",
       "      <td>0.064</td>\n",
       "    </tr>\n",
       "    <tr>\n",
       "      <th>1</th>\n",
       "      <td>(0, 0, 1)</td>\n",
       "      <td>[0, 1, 0, 1, 0, 0, 0, 1, 0, 0, 0, 0, 0, 0, 0, ...</td>\n",
       "      <td>0.077</td>\n",
       "    </tr>\n",
       "    <tr>\n",
       "      <th>2</th>\n",
       "      <td>(0, 0, 2)</td>\n",
       "      <td>[1, 0, 0, 0, 0, 0, 0, 0, 0, 0, 1, 0, 0, 0, 0, ...</td>\n",
       "      <td>0.082</td>\n",
       "    </tr>\n",
       "    <tr>\n",
       "      <th>8</th>\n",
       "      <td>(1, 0, 2)</td>\n",
       "      <td>[1, 0, 0, 0, 0, 0, 0, 0, 0, 0, 0, 0, 0, 0, 0, ...</td>\n",
       "      <td>0.085</td>\n",
       "    </tr>\n",
       "  </tbody>\n",
       "</table>\n",
       "</div>"
      ],
      "text/plain": [
       "  combination                                             sample   mean\n",
       "0   (0, 0, 0)  [0, 0, 0, 0, 0, 0, 0, 0, 0, 0, 0, 0, 0, 0, 0, ...  0.044\n",
       "6   (1, 0, 0)  [0, 0, 0, 0, 0, 0, 0, 0, 0, 0, 0, 0, 0, 0, 0, ...  0.064\n",
       "1   (0, 0, 1)  [0, 1, 0, 1, 0, 0, 0, 1, 0, 0, 0, 0, 0, 0, 0, ...  0.077\n",
       "2   (0, 0, 2)  [1, 0, 0, 0, 0, 0, 0, 0, 0, 0, 1, 0, 0, 0, 0, ...  0.082\n",
       "8   (1, 0, 2)  [1, 0, 0, 0, 0, 0, 0, 0, 0, 0, 0, 0, 0, 0, 0, ...  0.085"
      ]
     },
     "execution_count": 61,
     "metadata": {},
     "output_type": "execute_result"
    }
   ],
   "source": [
    "dff.head(5)"
   ]
  },
  {
   "cell_type": "markdown",
   "id": "6cc4fb46",
   "metadata": {},
   "source": [
    "Todo: fit \\\n",
    "$Y_i = \\beta_0 + \\beta_1 h_1 + ... + \\theta_1 d_1 + ... + \\xi_1 i_1 + ...$"
   ]
  },
  {
   "cell_type": "markdown",
   "id": "ca4bad0a",
   "metadata": {},
   "source": [
    "### Method 2"
   ]
  },
  {
   "cell_type": "code",
   "execution_count": 156,
   "id": "57e96764",
   "metadata": {},
   "outputs": [],
   "source": [
    "α = 2\n",
    "ℯ = 6\n",
    "n = 3\n",
    "\n",
    "n_h = 3\n",
    "n_d = 2\n",
    "n_i = 3\n",
    "\n",
    "β = [random.uniform(-(ℯ / n), ℯ / n) for _ in range(n_h)]\n",
    "θ = [random.uniform(-(ℯ / n), ℯ / n) for _ in range(n_d)]\n",
    "ξ = [random.uniform(-(ℯ / n), ℯ / n) for _ in range(n_i)]"
   ]
  },
  {
   "cell_type": "code",
   "execution_count": 157,
   "id": "44d48aca",
   "metadata": {},
   "outputs": [],
   "source": [
    "combinations = {}\n",
    "for combination in list(itertools.product(*[\n",
    "    range(0, n_asset) for n_asset in [n_h, n_d, n_i]\n",
    "])):\n",
    "    h, d, i = combination\n",
    "    s = α + β[h] + θ[d] + ξ[i]\n",
    "    combinations[combination] = 0.25 * (math.exp(s) / (1 + math.exp(s)))"
   ]
  },
  {
   "cell_type": "code",
   "execution_count": 158,
   "id": "4ab94029",
   "metadata": {},
   "outputs": [
    {
     "data": {
      "text/plain": [
       "<AxesSubplot:>"
      ]
     },
     "execution_count": 158,
     "metadata": {},
     "output_type": "execute_result"
    },
    {
     "data": {
      "image/png": "[encoded data removed]",
      "text/plain": [
       "<Figure size 432x288 with 1 Axes>"
      ]
     },
     "metadata": {
      "needs_background": "light"
     },
     "output_type": "display_data"
    }
   ],
   "source": [
    "pd.DataFrame.from_dict(combinations, orient='index').sort_values(0).plot.barh()"
   ]
  },
  {
   "cell_type": "code",
   "execution_count": 159,
   "id": "9d142505",
   "metadata": {},
   "outputs": [],
   "source": [
    "data = []\n",
    "idx = 0\n",
    "for combination, p in combinations.items():\n",
    "    clicks = (np.random.random(1000) <= p).astype('int')\n",
    "    for click in clicks:\n",
    "        data.append({\n",
    "            'combination': combination,\n",
    "            'click': click,\n",
    "            'id': idx\n",
    "        })\n",
    "        idx += 1"
   ]
  },
  {
   "cell_type": "code",
   "execution_count": 160,
   "id": "42ab256d",
   "metadata": {},
   "outputs": [
    {
     "data": {
      "text/plain": [
       "<AxesSubplot:ylabel='combination'>"
      ]
     },
     "execution_count": 160,
     "metadata": {},
     "output_type": "execute_result"
    },
    {
     "data": {
      "image/png": "[encoded data removed]",
      "text/plain": [
       "<Figure size 432x288 with 1 Axes>"
      ]
     },
     "metadata": {
      "needs_background": "light"
     },
     "output_type": "display_data"
    }
   ],
   "source": [
    "pd.DataFrame(data).groupby('combination')[['click']].mean().sort_values('click').plot.barh()"
   ]
  },
  {
   "cell_type": "code",
   "execution_count": 161,
   "id": "0b6a00d9",
   "metadata": {},
   "outputs": [
    {
     "data": {
      "text/plain": [
       "<AxesSubplot:xlabel='combination'>"
      ]
     },
     "execution_count": 161,
     "metadata": {},
     "output_type": "execute_result"
    },
    {
     "data": {
      "image/png": "[encoded data removed]",
      "text/plain": [
       "<Figure size 432x288 with 1 Axes>"
      ]
     },
     "metadata": {
      "needs_background": "light"
     },
     "output_type": "display_data"
    }
   ],
   "source": [
    "pd.DataFrame(data).groupby('combination')[['click']].mean().sort_values('click').plot()"
   ]
  },
  {
   "cell_type": "markdown",
   "id": "6c99dfb0",
   "metadata": {},
   "source": [
    "### Method 3"
   ]
  },
  {
   "cell_type": "markdown",
   "id": "92721a0d",
   "metadata": {},
   "source": [
    "So far we have taken the data simulation to be rather trivial, but this is probably not the case.\n",
    "\n",
    "The problem is that we're ignoring the user's probability to click. \n",
    "\n",
    "The probability a user clicks on a website is not only dependent on the website, but also on the user's intent.\n",
    "\n",
    "The web page just makes a user slight more / less likely to click."
   ]
  },
  {
   "cell_type": "code",
   "execution_count": 210,
   "id": "beb2d046",
   "metadata": {},
   "outputs": [],
   "source": [
    "users = []\n",
    "for u in range(1000):\n",
    "    p = random.random()\n",
    "    if p < 0.1:\n",
    "        users.append(random.uniform(0.7, 0.9))\n",
    "    if p > 0.1:\n",
    "        users.append(random.uniform(0.1, 0.15))"
   ]
  },
  {
   "cell_type": "code",
   "execution_count": 211,
   "id": "73f36f4a",
   "metadata": {},
   "outputs": [],
   "source": [
    "click = []\n",
    "for p_user in users:\n",
    "    p = random.random()\n",
    "    if p < p_user:\n",
    "        click.append(1)\n",
    "    else:\n",
    "        click.append(0)"
   ]
  },
  {
   "cell_type": "code",
   "execution_count": 212,
   "id": "f75bea74",
   "metadata": {},
   "outputs": [
    {
     "data": {
      "text/plain": [
       "0.201"
      ]
     },
     "execution_count": 212,
     "metadata": {},
     "output_type": "execute_result"
    }
   ],
   "source": [
    "np.mean(click)"
   ]
  },
  {
   "cell_type": "markdown",
   "id": "c88cb611",
   "metadata": {},
   "source": [
    "We could have also sampled 1000 B(0.2) RVs, but this would not take into account users."
   ]
  },
  {
   "cell_type": "code",
   "execution_count": 213,
   "id": "96c77359",
   "metadata": {},
   "outputs": [],
   "source": [
    "n = 3\n",
    "\n",
    "n_h = 3\n",
    "n_d = 2\n",
    "n_i = 3\n",
    "\n",
    "α_h = [random.uniform(-0.15 / n, 0.15 / n) for _ in range(n_h)]\n",
    "α_d = [random.uniform(-0.15 / n, 0.15 / n) for _ in range(n_d)]\n",
    "α_i = [random.uniform(-0.15 / n, 0.15 / n) for _ in range(n_i)]\n",
    "\n",
    "combinations = {}\n",
    "for combination in list(itertools.product(*[\n",
    "    range(0, n_asset) for n_asset in [n_h, n_d, n_i]\n",
    "])):\n",
    "    h, d, i = combination\n",
    "    combinations[combination] = α_h[h] + α_d[d] + α_i[i]"
   ]
  },
  {
   "cell_type": "code",
   "execution_count": 214,
   "id": "51c8f05c",
   "metadata": {},
   "outputs": [],
   "source": [
    "data = []\n",
    "for u, p_user in enumerate(users):\n",
    "    row = {}\n",
    "    for c, f in combinations.items():\n",
    "        row[c] = 1 if random.random() < (p_user + f) else 0\n",
    "    data.append(row)"
   ]
  },
  {
   "cell_type": "code",
   "execution_count": 215,
   "id": "248ebf0f",
   "metadata": {},
   "outputs": [
    {
     "data": {
      "text/plain": [
       "<AxesSubplot:>"
      ]
     },
     "execution_count": 215,
     "metadata": {},
     "output_type": "execute_result"
    },
    {
     "data": {
      "image/png": "[encoded data removed]",
      "text/plain": [
       "<Figure size 432x288 with 1 Axes>"
      ]
     },
     "metadata": {
      "needs_background": "light"
     },
     "output_type": "display_data"
    }
   ],
   "source": [
    "pd.DataFrame(data).mean().sort_values().plot.barh()"
   ]
  },
  {
   "cell_type": "code",
   "execution_count": null,
   "id": "e5fe4f94",
   "metadata": {},
   "outputs": [],
   "source": []
  }
 ],
 "metadata": {
  "kernelspec": {
   "display_name": "Python 3 (ipykernel)",
   "language": "python",
   "name": "python3"
  },
  "language_info": {
   "codemirror_mode": {
    "name": "ipython",
    "version": 3
   },
   "file_extension": ".py",
   "mimetype": "text/x-python",
   "name": "python",
   "nbconvert_exporter": "python",
   "pygments_lexer": "ipython3",
   "version": "3.9.7"
  }
 },
 "nbformat": 4,
 "nbformat_minor": 5
}

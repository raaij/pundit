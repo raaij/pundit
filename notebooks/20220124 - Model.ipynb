{
 "cells": [
  {
   "cell_type": "code",
   "execution_count": 446,
   "id": "e2f88f26",
   "metadata": {},
   "outputs": [],
   "source": [
    "import numpy as np \n",
    "import pandas as pd\n",
    "import itertools\n",
    "import scipy.stats\n",
    "import random\n",
    "import seaborn as sns\n",
    "import matplotlib.pyplot as plt\n",
    "%matplotlib inline"
   ]
  },
  {
   "cell_type": "markdown",
   "id": "0a0ca67a",
   "metadata": {},
   "source": [
    "Denote:\n",
    "\n",
    "* Asset types: $\\Phi = \\lbrace 1, 2, ..., T \\rbrace $\n",
    "    * Enumeration: $\\phi$\n",
    "* Assets: $\\mathcal{A}$\n",
    "    * Subset of assets of asset type $\\phi \\in \\Phi$: $\\mathcal{A}_\\phi$\n",
    "    * $A_\\Phi = (\\mathcal{A}_1, \\mathcal{A}_2, ..., \\mathcal{A}_T)$\n",
    "* Number of assets: $N$\n",
    "    * Number of assets of asset type $\\phi \\in \\Phi$: $N_\\phi$\n",
    "    * $N_\\Phi = (N_1, N_2, ... N_T)$\n",
    "* Designs: $\\mathcal{D} = \\lbrace (i_1, i_2, ..., i_T) : i_1 \\in A_1, i_2 \\in A_2, ... i_T \\in A_t \\rbrace $\n",
    "    * Single design: $d \\in \\mathcal{D}$\n",
    "    * Dummy vector: $\\mathcal{v}_{d} = [\n",
    "        \\mathbb{I}_{\\lbrace i_1 = 1 \\rbrace},\n",
    "        \\mathbb{I}_{\\lbrace i_1 = 2 \\rbrace},\n",
    "        ...\n",
    "        \\mathbb{I}_{\\lbrace i_1 = N_1 \\rbrace},\n",
    "        \\mathbb{I}_{\\lbrace i_2 = 1 \\rbrace},\n",
    "        ...\n",
    "        \\mathbb{I}_{\\lbrace i_T = 1 \\rbrace},\n",
    "        ...\n",
    "        \\mathbb{I}_{\\lbrace i_T = N_T \\rbrace}\n",
    "      ]^T$\n",
    "    * Enumeration: $j$\n",
    "* User: $u$\n",
    "* Asset influence vector: $\\beta \\in \\mathbb{R}^{1 \\times \\sum \\Phi_i}$ \n",
    "    * Max influence for a design: $\\gamma$\n",
    "\n",
    "\n",
    "\\begin{align}\n",
    "    P_{d,u}(\\text{click}) &\\sim B(f(d, u)) \\\\\n",
    "    f(d, u) &= \\mathbb{P}(\\text{click} | u) + \\beta \\mathcal{v}_{d}\n",
    "\\end{align}"
   ]
  },
  {
   "cell_type": "code",
   "execution_count": 458,
   "id": "0d0ed0b1",
   "metadata": {},
   "outputs": [],
   "source": [
    "Φ = [1, 2, 3]\n",
    "N_Φ = [10, 7, 7]\n",
    "A_Φ = (list(range(1, N_ϕ + 1)) for N_ϕ in N_Φ)\n",
    "D = list(itertools.product(*A_Φ))\n",
    "γ = 0.25\n",
    "β = np.random.uniform(-γ / len(Φ), γ / len(Φ), sum(N_Φ))"
   ]
  },
  {
   "cell_type": "code",
   "execution_count": 459,
   "id": "705e890f",
   "metadata": {},
   "outputs": [],
   "source": [
    "def dummy_design_vector(d):\n",
    "    v_d = []\n",
    "    for i_ϕ, N_ϕ in zip(d, N_Φ):\n",
    "        values = list(np.zeros(N_ϕ))\n",
    "        values[i_ϕ - 1] = 1\n",
    "        v_d += values\n",
    "    return np.array(v_d).astype(int)"
   ]
  },
  {
   "cell_type": "code",
   "execution_count": 460,
   "id": "9b30243e",
   "metadata": {},
   "outputs": [],
   "source": [
    "# The set of all dummy design vectors\n",
    "v_D = [dummy_design_vector(d) for d in D]"
   ]
  },
  {
   "cell_type": "code",
   "execution_count": 461,
   "id": "2d7025c1",
   "metadata": {},
   "outputs": [],
   "source": [
    "P_click_u = [0.25 for _ in range(1000)]\n",
    "data = []\n",
    "for u, p in enumerate(P_click_u):\n",
    "    j = random.randint(0, len(D) - 1)\n",
    "    data.append({\n",
    "        'user': u,\n",
    "        'design': D[j],\n",
    "        'click': scipy.stats.bernoulli.rvs(p + np.dot(v_D[j], β))\n",
    "    })"
   ]
  },
  {
   "cell_type": "code",
   "execution_count": 464,
   "id": "ff4692f1",
   "metadata": {},
   "outputs": [],
   "source": [
    "# pd.DataFrame(data).groupby('design')['click'].mean().sort_values().plot.barh()"
   ]
  },
  {
   "cell_type": "code",
   "execution_count": 465,
   "id": "9031d1ae",
   "metadata": {},
   "outputs": [
    {
     "data": {
      "text/plain": [
       "array([ 0.20398874,  1.81096936, -1.75474756,  1.14592289])"
      ]
     },
     "execution_count": 465,
     "metadata": {},
     "output_type": "execute_result"
    }
   ],
   "source": [
    "np.random.normal(size=4)"
   ]
  },
  {
   "cell_type": "code",
   "execution_count": 466,
   "id": "45e2989f",
   "metadata": {},
   "outputs": [],
   "source": [
    "W_0 = np.random.normal(size=1)[0]\n",
    "W_1 = np.random.normal(size=sum(N_Φ))\n",
    "W_2 = np.random.normal(size=(sum(N_Φ), sum(N_Φ)))"
   ]
  },
  {
   "cell_type": "code",
   "execution_count": 467,
   "id": "b2011ed1",
   "metadata": {},
   "outputs": [],
   "source": [
    "def design_weight(design):\n",
    "    v_d = dummy_design_vector(D[0])\n",
    "    return (\n",
    "        W_0 \n",
    "        + np.dot(v_d, W_1) \n",
    "        + np.sum(np.triu(np.outer(v_d, v_d), 1) * W_2)\n",
    "    )"
   ]
  },
  {
   "cell_type": "code",
   "execution_count": 468,
   "id": "287a7001",
   "metadata": {},
   "outputs": [],
   "source": [
    "W_0 = np.random.normal(size=1)[0]\n",
    "W_1 = np.random.normal(size=sum(N_Φ))\n",
    "W_2 = np.random.normal(size=(sum(N_Φ), sum(N_Φ)))\n",
    "\n",
    "α_1 = 1\n",
    "α_2 = 1\n",
    "\n",
    "design_values = []\n",
    "for design in D:\n",
    "    v_d = dummy_design_vector(design)\n",
    "    design_values.append(\n",
    "        W_0 \n",
    "        + (α_1 * np.dot(v_d, W_1))\n",
    "        + (α_2 * np.sum(np.triu(np.outer(v_d, v_d), 1) * W_2))\n",
    "    )\n",
    "\n",
    "β = max(design_values)\n",
    "design_values = np.multiply(1/β, design_values)"
   ]
  },
  {
   "cell_type": "code",
   "execution_count": 469,
   "id": "c7bc6d85",
   "metadata": {},
   "outputs": [
    {
     "data": {
      "text/plain": [
       "<AxesSubplot:ylabel='Count'>"
      ]
     },
     "execution_count": 469,
     "metadata": {},
     "output_type": "execute_result"
    },
    {
     "data": {
      "image/png": "[encoded data removed]",
      "text/plain": [
       "<Figure size 432x288 with 1 Axes>"
      ]
     },
     "metadata": {
      "needs_background": "light"
     },
     "output_type": "display_data"
    }
   ],
   "source": [
    "sns.histplot(design_values)"
   ]
  },
  {
   "cell_type": "code",
   "execution_count": 441,
   "id": "3c02aefe",
   "metadata": {},
   "outputs": [],
   "source": [
    "p_values = [\n",
    "    scipy.stats.norm.cdf(value) for value in design_values\n",
    "]"
   ]
  },
  {
   "cell_type": "code",
   "execution_count": 442,
   "id": "84c7fb47",
   "metadata": {},
   "outputs": [
    {
     "data": {
      "text/plain": [
       "[0.4416711219311171,\n",
       " 0.8413447460685429,\n",
       " 0.6364614197439631,\n",
       " 0.547522831405162,\n",
       " 0.8123523006462912,\n",
       " 0.7519751032271813,\n",
       " 0.45002230047204017,\n",
       " 0.6966453807885797,\n",
       " 0.5461680421053626,\n",
       " 0.502235914857857,\n",
       " 0.6050518112661596,\n",
       " 0.6227679164512364,\n",
       " 0.2737483201818336,\n",
       " 0.6259352597352317,\n",
       " 0.5115941133425665,\n",
       " 0.5915419126727756,\n",
       " 0.7807103655047583,\n",
       " 0.8232075327359514]"
      ]
     },
     "execution_count": 442,
     "metadata": {},
     "output_type": "execute_result"
    }
   ],
   "source": [
    "p_values"
   ]
  },
  {
   "cell_type": "markdown",
   "id": "798ad4c8",
   "metadata": {},
   "source": [
    "TODO: Scale these to [0.1, 0.3]"
   ]
  },
  {
   "cell_type": "code",
   "execution_count": 267,
   "id": "9fa0106a",
   "metadata": {},
   "outputs": [],
   "source": [
    "v_d = dummy_design_vector(D[0])"
   ]
  },
  {
   "cell_type": "code",
   "execution_count": 269,
   "id": "1a550abc",
   "metadata": {},
   "outputs": [
    {
     "data": {
      "text/plain": [
       "1.3488449381528418"
      ]
     },
     "execution_count": 269,
     "metadata": {},
     "output_type": "execute_result"
    }
   ],
   "source": [
    "np.dot(v_d, W_1)"
   ]
  },
  {
   "cell_type": "code",
   "execution_count": 271,
   "id": "955078f5",
   "metadata": {},
   "outputs": [
    {
     "data": {
      "text/plain": [
       "array([1, 0, 0, 1, 0, 1, 0, 0])"
      ]
     },
     "execution_count": 271,
     "metadata": {},
     "output_type": "execute_result"
    }
   ],
   "source": [
    "v_d"
   ]
  },
  {
   "cell_type": "code",
   "execution_count": 270,
   "id": "99747024",
   "metadata": {},
   "outputs": [
    {
     "data": {
      "text/plain": [
       "array([-0.84475085,  0.29801562, -1.63040691, -0.68604103, -1.08168743,\n",
       "       -2.20299781,  0.37119437, -1.10718082])"
      ]
     },
     "execution_count": 270,
     "metadata": {},
     "output_type": "execute_result"
    }
   ],
   "source": [
    "np.dot(v_d, W_2)"
   ]
  },
  {
   "cell_type": "code",
   "execution_count": 282,
   "id": "4fe3d407",
   "metadata": {},
   "outputs": [
    {
     "data": {
      "text/plain": [
       "0.05449222888012528"
      ]
     },
     "execution_count": 282,
     "metadata": {},
     "output_type": "execute_result"
    }
   ],
   "source": [
    "np.sum(np.triu(np.outer(v_d, v_d), 1) * W_2)"
   ]
  },
  {
   "cell_type": "code",
   "execution_count": null,
   "id": "c0fe58d5",
   "metadata": {},
   "outputs": [],
   "source": []
  }
 ],
 "metadata": {
  "kernelspec": {
   "display_name": "Python 3 (ipykernel)",
   "language": "python",
   "name": "python3"
  },
  "language_info": {
   "codemirror_mode": {
    "name": "ipython",
    "version": 3
   },
   "file_extension": ".py",
   "mimetype": "text/x-python",
   "name": "python",
   "nbconvert_exporter": "python",
   "pygments_lexer": "ipython3",
   "version": "3.9.7"
  }
 },
 "nbformat": 4,
 "nbformat_minor": 5
}

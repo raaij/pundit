{
 "cells": [
  {
   "cell_type": "code",
   "execution_count": 34,
   "id": "691f0697",
   "metadata": {},
   "outputs": [],
   "source": [
    "import json\n",
    "import random\n",
    "\n",
    "from wdo.bandits import EpsilonGreedyBandit\n",
    "from wdo.constant import PATH_RESULTS\n",
    "from wdo.env import WebsiteEnvironmentSimple\n",
    "from wdo.reporter import Reporter\n",
    "\n",
    "N_IMPRESSIONS = 10_000\n",
    "\n",
    "\n",
    "class Experiment:\n",
    "    def __init__(self, env_klass, bandit_klass, params):\n",
    "        self.env = env_klass(**params)\n",
    "        self.reporter = Reporter()\n",
    "        self.bandit = bandit_klass(env=self.env, reporter=self.reporter, **params)\n",
    "        self.name = params['name']\n",
    "\n",
    "    @classmethod\n",
    "    def from_config(cls, config_path):\n",
    "        with open(config_path, 'r') as fp:\n",
    "            config = json.load(fp)\n",
    "\n",
    "        # TODO: Remove this, should be set in config\n",
    "        K = 8\n",
    "        proba = [0.05 + random.random() * 0.10 for _ in range(K)]\n",
    "        return cls(\n",
    "            env_klass=WebsiteEnvironmentSimple,\n",
    "            bandit_klass=EpsilonGreedyBandit,\n",
    "            params={\n",
    "                'K': K,\n",
    "                'proba': proba,\n",
    "                'ε': 0.1,\n",
    "                'name': config_path.as_uri().split('/')[-1].replace('.json', '')\n",
    "            }\n",
    "        )\n",
    "\n",
    "    def run(self):\n",
    "        for _ in range(N_IMPRESSIONS):\n",
    "            action = self.bandit.get_action()\n",
    "            reward = self.env.do(action)\n",
    "            self.bandit.update(action, reward)\n",
    "\n",
    "    def save(self):\n",
    "        import pandas as pd\n",
    "        data = pd.DataFrame.from_dict(self.reporter.history, orient='index')\n",
    "        data.to_csv(PATH_RESULTS / (self.name + '.csv'))\n",
    "\n"
   ]
  },
  {
   "cell_type": "code",
   "execution_count": 35,
   "id": "11a5e16a",
   "metadata": {},
   "outputs": [],
   "source": [
    "from wdo.constant import PATH_EXPERIMENTS"
   ]
  },
  {
   "cell_type": "code",
   "execution_count": 36,
   "id": "419120ca",
   "metadata": {},
   "outputs": [],
   "source": [
    "path = PATH_EXPERIMENTS / \"Amazing-Parrot-1.json\""
   ]
  },
  {
   "cell_type": "code",
   "execution_count": 37,
   "id": "8e847431",
   "metadata": {},
   "outputs": [
    {
     "data": {
      "text/plain": [
       "'Amazing-Parrot-1'"
      ]
     },
     "execution_count": 37,
     "metadata": {},
     "output_type": "execute_result"
    }
   ],
   "source": [
    "path.as_uri().split('/')[-1].replace('.json', '')"
   ]
  },
  {
   "cell_type": "code",
   "execution_count": 38,
   "id": "fc2cde7b",
   "metadata": {},
   "outputs": [],
   "source": [
    "experiment = Experiment.from_config(PATH_EXPERIMENTS / \"Amazing-Parrot-1.json\")"
   ]
  },
  {
   "cell_type": "code",
   "execution_count": 39,
   "id": "6b255e32",
   "metadata": {},
   "outputs": [],
   "source": [
    "experiment.run()"
   ]
  },
  {
   "cell_type": "code",
   "execution_count": 40,
   "id": "bdf61164",
   "metadata": {},
   "outputs": [],
   "source": [
    "experiment.save()"
   ]
  },
  {
   "cell_type": "code",
   "execution_count": null,
   "id": "9c3cf586",
   "metadata": {},
   "outputs": [],
   "source": []
  }
 ],
 "metadata": {
  "kernelspec": {
   "display_name": "Python 3 (ipykernel)",
   "language": "python",
   "name": "python3"
  },
  "language_info": {
   "codemirror_mode": {
    "name": "ipython",
    "version": 3
   },
   "file_extension": ".py",
   "mimetype": "text/x-python",
   "name": "python",
   "nbconvert_exporter": "python",
   "pygments_lexer": "ipython3",
   "version": "3.9.7"
  }
 },
 "nbformat": 4,
 "nbformat_minor": 5
}

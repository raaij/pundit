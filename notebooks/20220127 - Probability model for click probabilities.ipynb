{
 "cells": [
  {
   "cell_type": "code",
   "execution_count": 155,
   "id": "927987cc",
   "metadata": {},
   "outputs": [],
   "source": [
    "import numpy as np \n",
    "import itertools\n",
    "import matplotlib.pyplot as plt\n",
    "import seaborn as sns\n",
    "%matplotlib inline"
   ]
  },
  {
   "cell_type": "markdown",
   "id": "e99c9215",
   "metadata": {},
   "source": [
    "The model is specified by \n",
    "\\begin{align}\n",
    "    B^T_A W\n",
    "        &= \\frac{1}{\\beta} [ W^0 + \\alpha_1 \\sum_{i=1}^D W_i^1(A) \\\\\n",
    "        &+ \\alpha_2 \\sum_{j=1}^D \\sum_{k=j+1} W^2_{j,k}(A)\n",
    "\\end{align}\n",
    "\n",
    "where\n",
    "* $B_A^T$ is a feature vector that represents which combination of widgets to show\n",
    "* $W_0$ is the mean click through rate\n",
    "* $W_1$ is a vector with first-order interaction parameters (i.e. how each asset influences the click through rate)\n",
    "* $W_2$ is a matrix with second-order interaction parameters (i.e. the influence of combinations of assets on the click through rate\n",
    "* $\\beta$ is a scaling parameter\n",
    "\n",
    "# Examples\n",
    "\n",
    "## Example 1\n",
    "\n",
    "* 2 asset types, headers and images, with $N_1=3$, $N_2=2$"
   ]
  },
  {
   "cell_type": "code",
   "execution_count": 315,
   "id": "520c4f6e",
   "metadata": {},
   "outputs": [],
   "source": [
    "N_1 = 3\n",
    "N_2 = 2\n",
    "N = N_1 + N_2"
   ]
  },
  {
   "cell_type": "markdown",
   "id": "af64869c",
   "metadata": {},
   "source": [
    "* layouts"
   ]
  },
  {
   "cell_type": "code",
   "execution_count": 316,
   "id": "d7bf5de9",
   "metadata": {},
   "outputs": [
    {
     "data": {
      "text/plain": [
       "array([[1, 0, 0, 1, 0],\n",
       "       [1, 0, 0, 0, 1],\n",
       "       [0, 1, 0, 1, 0],\n",
       "       [0, 1, 0, 0, 1],\n",
       "       [0, 0, 1, 1, 0],\n",
       "       [0, 0, 1, 0, 1]], dtype=uint8)"
      ]
     },
     "execution_count": 316,
     "metadata": {},
     "output_type": "execute_result"
    }
   ],
   "source": [
    "layouts = list(itertools.product(range(N_1), range(N_2)))\n",
    "layouts = pd.get_dummies(pd.DataFrame(layouts).astype(str), prefix=['header', 'image'])\n",
    "layouts = layouts.values\n",
    "layouts"
   ]
  },
  {
   "cell_type": "markdown",
   "id": "c11425d8",
   "metadata": {},
   "source": [
    "* $W_0 \\sim N(0,1)$\n",
    "* $W_1 \\sim N(0,1)$ \n",
    "* $W_2 \\sim N(0,1)$"
   ]
  },
  {
   "cell_type": "code",
   "execution_count": 317,
   "id": "25cffff3",
   "metadata": {},
   "outputs": [],
   "source": [
    "W_0 = np.random.normal(size=1)\n",
    "W_1 = np.random.normal(size=N)\n",
    "W_2 = np.random.normal(size=(N, N))"
   ]
  },
  {
   "cell_type": "code",
   "execution_count": 318,
   "id": "93e3775c",
   "metadata": {},
   "outputs": [
    {
     "data": {
      "text/plain": [
       "(array([-0.14212954]),\n",
       " array([-0.8750639 ,  1.12541456,  0.19975295,  0.09389791,  1.19315653]),\n",
       " array([[ 0.65094297,  0.92952966,  0.82591663, -1.14899457, -1.10621572],\n",
       "        [-0.00963626, -0.18746551, -0.80665895, -1.21844682, -0.91442306],\n",
       "        [-1.30267775,  0.62671073, -0.13706889, -0.16597829,  0.7232315 ],\n",
       "        [ 0.44657301, -1.33812654, -1.97009417,  0.00442469,  0.52889138],\n",
       "        [ 0.72842321, -0.82950258,  0.23391194,  2.96199907, -0.32797214]]))"
      ]
     },
     "execution_count": 318,
     "metadata": {},
     "output_type": "execute_result"
    }
   ],
   "source": [
    "W_0, W_1, W_2"
   ]
  },
  {
   "cell_type": "markdown",
   "id": "f570bdde",
   "metadata": {},
   "source": [
    "* $\\alpha_1$ = 1\n",
    "* $\\alpha_2$ = 0.5"
   ]
  },
  {
   "cell_type": "code",
   "execution_count": 320,
   "id": "64e613a8",
   "metadata": {},
   "outputs": [],
   "source": [
    "α_1 = 1\n",
    "α_2 = 0.5"
   ]
  },
  {
   "cell_type": "code",
   "execution_count": 321,
   "id": "5c3bd266",
   "metadata": {},
   "outputs": [
    {
     "data": {
      "text/plain": [
       "array([1, 0, 0, 1, 0], dtype=uint8)"
      ]
     },
     "execution_count": 321,
     "metadata": {},
     "output_type": "execute_result"
    }
   ],
   "source": [
    "A_1 = layouts[0]\n",
    "A_1"
   ]
  },
  {
   "cell_type": "code",
   "execution_count": 323,
   "id": "3d876505",
   "metadata": {},
   "outputs": [],
   "source": [
    "def compute_variance(β):\n",
    "    values = [(1/β) * (\n",
    "        W_0 \n",
    "        + α_1 * np.dot(A, W_1) \n",
    "        + α_2 * np.sum(np.triu(np.outer(A, A), 1) * W_2)\n",
    "    ) for A in layouts]\n",
    "    return np.var(values)\n",
    "\n",
    "def find_beta(desired_variance, initial_guess=10):\n",
    "    return scipy.optimize.fsolve(\n",
    "        lambda x: compute_variance(x) - desired_variance, \n",
    "        initial_guess\n",
    "    )"
   ]
  },
  {
   "cell_type": "code",
   "execution_count": 324,
   "id": "6bd1f7c6",
   "metadata": {},
   "outputs": [
    {
     "data": {
      "text/plain": [
       "array([7.90714253])"
      ]
     },
     "execution_count": 324,
     "metadata": {},
     "output_type": "execute_result"
    }
   ],
   "source": [
    "desired_variance = 0.02\n",
    "β = find_beta(desired_variance)\n",
    "β"
   ]
  },
  {
   "cell_type": "markdown",
   "id": "87c18c25",
   "metadata": {},
   "source": [
    "$P(R|A_1) = \\Phi ( R * B^T_A W)$"
   ]
  },
  {
   "cell_type": "code",
   "execution_count": 330,
   "id": "2c560f02",
   "metadata": {
    "scrolled": true
   },
   "outputs": [
    {
     "data": {
      "text/plain": [
       "array([0.12488074])"
      ]
     },
     "execution_count": 330,
     "metadata": {},
     "output_type": "execute_result"
    }
   ],
   "source": [
    "# In the paper they do not mention how they get the mean around 0.12\n",
    "# Here we subtract 0.3 from the values, as the mean is around 0.5\n",
    "scipy.stats.norm.cdf(\n",
    "    1 * (1 / β) * (\n",
    "        W_0 \n",
    "        + α_1 * np.dot(A_1, W_1) \n",
    "        + α_2 * np.sum(np.triu(np.outer(A_1, A_1), 1) * W_2)\n",
    "    )\n",
    ") - 0.3"
   ]
  },
  {
   "cell_type": "markdown",
   "id": "45543918",
   "metadata": {},
   "source": [
    "* $A_2$ = [1, 0, 1]"
   ]
  },
  {
   "cell_type": "code",
   "execution_count": 331,
   "id": "0fd0b836",
   "metadata": {},
   "outputs": [
    {
     "data": {
      "text/plain": [
       "array([0, 1, 0, 1, 0], dtype=uint8)"
      ]
     },
     "execution_count": 331,
     "metadata": {},
     "output_type": "execute_result"
    }
   ],
   "source": [
    "A_2 = layouts[2]\n",
    "A_2"
   ]
  },
  {
   "cell_type": "markdown",
   "id": "a1a2e42d",
   "metadata": {},
   "source": [
    "$P(R|A_2) = \\Phi ( R * B^T_A W)$"
   ]
  },
  {
   "cell_type": "code",
   "execution_count": 332,
   "id": "728e2c27",
   "metadata": {},
   "outputs": [
    {
     "data": {
      "text/plain": [
       "array([0.22359638])"
      ]
     },
     "execution_count": 332,
     "metadata": {},
     "output_type": "execute_result"
    }
   ],
   "source": [
    "# In the paper they do not mention how they get the mean around 0.12\n",
    "# Here we subtract 0.3 from the values, as the mean is around 0.5\n",
    "scipy.stats.norm.cdf(\n",
    "    1 * (1 / β) * (\n",
    "        W_0 \n",
    "        + α_1 * np.dot(A_2, W_1) \n",
    "        + α_2 * np.sum(np.triu(np.outer(A_2, A_2), 1) * W_2)\n",
    "    )\n",
    ") - 0.3"
   ]
  },
  {
   "cell_type": "code",
   "execution_count": 333,
   "id": "09accde0",
   "metadata": {},
   "outputs": [],
   "source": [
    "all_products = [\n",
    "    (1 / β) * (\n",
    "        W_0 \n",
    "        + α_1 * np.dot(A, W_1) \n",
    "        + α_2 * np.sum(np.triu(np.outer(A, A), 1) * W_2)\n",
    "    ) for A in layouts\n",
    "]"
   ]
  },
  {
   "cell_type": "code",
   "execution_count": 334,
   "id": "2cd36d04",
   "metadata": {},
   "outputs": [],
   "source": [
    "# In the paper they do not mention how they get the mean around 0.12\n",
    "# Here we subtract 0.3 from the values, as the mean is around 0.5\n",
    "all_probabilities = [\n",
    "    scipy.stats.norm.cdf(\n",
    "        1 * product\n",
    "    )[0] - 0.3 for product in all_products\n",
    "]"
   ]
  },
  {
   "cell_type": "code",
   "execution_count": 335,
   "id": "75599f11",
   "metadata": {},
   "outputs": [
    {
     "data": {
      "text/plain": [
       "[0.12488074066744376,\n",
       " 0.18097897334031426,\n",
       " 0.223596376339737,\n",
       " 0.2860623881061553,\n",
       " 0.20345763813216017,\n",
       " 0.28079056801075225]"
      ]
     },
     "execution_count": 335,
     "metadata": {},
     "output_type": "execute_result"
    }
   ],
   "source": [
    "all_probabilities"
   ]
  },
  {
   "cell_type": "code",
   "execution_count": 336,
   "id": "bc1bf1df",
   "metadata": {},
   "outputs": [
    {
     "data": {
      "text/plain": [
       "<AxesSubplot:ylabel='Count'>"
      ]
     },
     "execution_count": 336,
     "metadata": {},
     "output_type": "execute_result"
    },
    {
     "data": {
      "image/png": "[encoded data removed]",
      "text/plain": [
       "<Figure size 432x288 with 1 Axes>"
      ]
     },
     "metadata": {
      "needs_background": "light"
     },
     "output_type": "display_data"
    }
   ],
   "source": [
    "sns.histplot(all_probabilities)"
   ]
  },
  {
   "cell_type": "markdown",
   "id": "eb3305cf",
   "metadata": {},
   "source": [
    "## Example 2"
   ]
  },
  {
   "cell_type": "code",
   "execution_count": 304,
   "id": "dc641e58",
   "metadata": {},
   "outputs": [],
   "source": [
    "N_1 = 10\n",
    "N_2 = 15\n",
    "N = N_1 + N_2"
   ]
  },
  {
   "cell_type": "code",
   "execution_count": 305,
   "id": "7f471f51",
   "metadata": {},
   "outputs": [],
   "source": [
    "layouts = list(itertools.product(range(N_1), range(N_2)))\n",
    "layouts = pd.get_dummies(pd.DataFrame(layouts).astype(str), prefix=['header', 'image'])\n",
    "layouts = layouts.values"
   ]
  },
  {
   "cell_type": "code",
   "execution_count": 306,
   "id": "a9becb7a",
   "metadata": {},
   "outputs": [],
   "source": [
    "W_0 = np.random.normal(size=1)\n",
    "W_1 = np.random.normal(size=N)\n",
    "W_2 = np.random.normal(size=(N, N))"
   ]
  },
  {
   "cell_type": "code",
   "execution_count": 307,
   "id": "7c673688",
   "metadata": {},
   "outputs": [],
   "source": [
    "α_1 = 1\n",
    "α_2 = 2"
   ]
  },
  {
   "cell_type": "code",
   "execution_count": 308,
   "id": "3e1fda5c",
   "metadata": {},
   "outputs": [],
   "source": [
    "def compute_variance(β):\n",
    "    values = [(1/β) * (\n",
    "        W_0 \n",
    "        + α_1 * np.dot(A, W_1) \n",
    "        + α_2 * np.sum(np.triu(np.outer(A, A), 1) * W_2)\n",
    "    ) for A in layouts]\n",
    "    return np.var(values)\n",
    "\n",
    "def find_beta(desired_variance, initial_guess=10):\n",
    "    return scipy.optimize.fsolve(\n",
    "        lambda x: compute_variance(x) - desired_variance, \n",
    "        initial_guess\n",
    "    )"
   ]
  },
  {
   "cell_type": "code",
   "execution_count": 309,
   "id": "276ea60b",
   "metadata": {},
   "outputs": [
    {
     "data": {
      "text/plain": [
       "array([17.38133044])"
      ]
     },
     "execution_count": 309,
     "metadata": {},
     "output_type": "execute_result"
    }
   ],
   "source": [
    "desired_variance = 0.02\n",
    "β = find_beta(desired_variance)\n",
    "β"
   ]
  },
  {
   "cell_type": "code",
   "execution_count": 310,
   "id": "54dfda42",
   "metadata": {},
   "outputs": [],
   "source": [
    "all_products = [\n",
    "    (1 / β) * (\n",
    "        W_0 \n",
    "        + α_1 * np.dot(A, W_1) \n",
    "        + α_2 * np.sum(np.triu(np.outer(A, A), 1) * W_2)\n",
    "    ) for A in layouts\n",
    "]"
   ]
  },
  {
   "cell_type": "code",
   "execution_count": 313,
   "id": "6bd4487f",
   "metadata": {},
   "outputs": [],
   "source": [
    "# In the paper they do not mention how they get the mean around 0.12\n",
    "# Here we subtract 0.3 from the values, as the mean is around 0.5\n",
    "all_probabilities = [\n",
    "    scipy.stats.norm.cdf(\n",
    "        1 * product\n",
    "    )[0] - 0.3 for product in all_products\n",
    "]"
   ]
  },
  {
   "cell_type": "code",
   "execution_count": 314,
   "id": "19788631",
   "metadata": {},
   "outputs": [
    {
     "data": {
      "text/plain": [
       "<AxesSubplot:ylabel='Count'>"
      ]
     },
     "execution_count": 314,
     "metadata": {},
     "output_type": "execute_result"
    },
    {
     "data": {
      "image/png": "[encoded data removed]",
      "text/plain": [
       "<Figure size 432x288 with 1 Axes>"
      ]
     },
     "metadata": {
      "needs_background": "light"
     },
     "output_type": "display_data"
    }
   ],
   "source": [
    "sns.histplot(all_probabilities)"
   ]
  }
 ],
 "metadata": {
  "kernelspec": {
   "display_name": "Python 3 (ipykernel)",
   "language": "python",
   "name": "python3"
  },
  "language_info": {
   "codemirror_mode": {
    "name": "ipython",
    "version": 3
   },
   "file_extension": ".py",
   "mimetype": "text/x-python",
   "name": "python",
   "nbconvert_exporter": "python",
   "pygments_lexer": "ipython3",
   "version": "3.9.7"
  }
 },
 "nbformat": 4,
 "nbformat_minor": 5
}

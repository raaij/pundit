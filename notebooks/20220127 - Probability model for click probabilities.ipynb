{
 "cells": [
  {
   "cell_type": "code",
   "execution_count": 13,
   "id": "927987cc",
   "metadata": {},
   "outputs": [],
   "source": [
    "import numpy as np \n",
    "import itertools\n",
    "import matplotlib.pyplot as plt\n",
    "import seaborn as sns\n",
    "import pandas as pd\n",
    "import scipy.stats\n",
    "%matplotlib inline"
   ]
  },
  {
   "cell_type": "markdown",
   "id": "e99c9215",
   "metadata": {},
   "source": [
    "The model is specified by \n",
    "\\begin{align}\n",
    "    B^T_A W\n",
    "        &= \\frac{1}{\\beta} [ W^0 + \\alpha_1 \\sum_{i=1}^D W_i^1(A) \\\\\n",
    "        &+ \\alpha_2 \\sum_{j=1}^D \\sum_{k=j+1} W^2_{j,k}(A)\n",
    "\\end{align}\n",
    "\n",
    "where\n",
    "* $B_A^T$ is a feature vector that represents which combination of widgets to show\n",
    "* $W_0$ is the mean click through rate\n",
    "* $W_1$ is a vector with first-order interaction parameters (i.e. how each asset influences the click through rate)\n",
    "* $W_2$ is a matrix with second-order interaction parameters (i.e. the influence of combinations of assets on the click through rate\n",
    "* $\\beta$ is a scaling parameter\n",
    "\n",
    "# Examples\n",
    "\n",
    "## Example 1\n",
    "\n",
    "* 2 asset types, headers and images, with $N_1=3$, $N_2=2$"
   ]
  },
  {
   "cell_type": "code",
   "execution_count": 131,
   "id": "520c4f6e",
   "metadata": {},
   "outputs": [],
   "source": [
    "N_1 = 3\n",
    "N_2 = 2\n",
    "N = N_1 + N_2"
   ]
  },
  {
   "cell_type": "markdown",
   "id": "af64869c",
   "metadata": {},
   "source": [
    "* layouts"
   ]
  },
  {
   "cell_type": "code",
   "execution_count": 132,
   "id": "d7bf5de9",
   "metadata": {},
   "outputs": [
    {
     "data": {
      "text/plain": [
       "array([[1, 0, 0, 1, 0],\n",
       "       [1, 0, 0, 0, 1],\n",
       "       [0, 1, 0, 1, 0],\n",
       "       [0, 1, 0, 0, 1],\n",
       "       [0, 0, 1, 1, 0],\n",
       "       [0, 0, 1, 0, 1]], dtype=uint8)"
      ]
     },
     "execution_count": 132,
     "metadata": {},
     "output_type": "execute_result"
    }
   ],
   "source": [
    "layouts = list(itertools.product(range(N_1), range(N_2)))\n",
    "layouts = pd.get_dummies(pd.DataFrame(layouts).astype(str), prefix=['header', 'image'])\n",
    "layouts = layouts.values\n",
    "layouts"
   ]
  },
  {
   "cell_type": "markdown",
   "id": "c11425d8",
   "metadata": {},
   "source": [
    "* $W_0 \\sim N(0,1)$\n",
    "* $W_1 \\sim N(0,1)$ \n",
    "* $W_2 \\sim N(0,1)$"
   ]
  },
  {
   "cell_type": "code",
   "execution_count": 133,
   "id": "25cffff3",
   "metadata": {},
   "outputs": [],
   "source": [
    "W_0 = -10\n",
    "W_1 = np.random.normal(size=N)\n",
    "W_2 = np.random.normal(size=(N, N))"
   ]
  },
  {
   "cell_type": "code",
   "execution_count": 134,
   "id": "93e3775c",
   "metadata": {},
   "outputs": [
    {
     "data": {
      "text/plain": [
       "(-10,\n",
       " array([ 1.2776918 , -0.04241037, -1.2619989 ,  0.02590192, -0.35875421]),\n",
       " array([[-0.73849559, -0.584075  ,  2.09625028,  0.28317341,  0.17779163],\n",
       "        [ 0.83432307, -1.37570634, -1.62337365, -0.04956344, -1.04523931],\n",
       "        [-0.9439031 , -0.60096151,  1.72017604, -0.65726767,  0.3704291 ],\n",
       "        [-0.85496662,  0.21697136, -0.83000828,  0.53105798,  0.33135   ],\n",
       "        [ 0.73221154, -1.23779031, -0.64880238, -1.26091274,  0.27811647]]))"
      ]
     },
     "execution_count": 134,
     "metadata": {},
     "output_type": "execute_result"
    }
   ],
   "source": [
    "W_0, W_1, W_2"
   ]
  },
  {
   "cell_type": "markdown",
   "id": "f570bdde",
   "metadata": {},
   "source": [
    "* $\\alpha_1$ = 1\n",
    "* $\\alpha_2$ = 0.5"
   ]
  },
  {
   "cell_type": "code",
   "execution_count": 135,
   "id": "64e613a8",
   "metadata": {},
   "outputs": [],
   "source": [
    "α_1 = 1\n",
    "α_2 = 0.5"
   ]
  },
  {
   "cell_type": "code",
   "execution_count": 136,
   "id": "5c3bd266",
   "metadata": {},
   "outputs": [
    {
     "data": {
      "text/plain": [
       "array([1, 0, 0, 1, 0], dtype=uint8)"
      ]
     },
     "execution_count": 136,
     "metadata": {},
     "output_type": "execute_result"
    }
   ],
   "source": [
    "A_1 = layouts[0]\n",
    "A_1"
   ]
  },
  {
   "cell_type": "code",
   "execution_count": 137,
   "id": "3d876505",
   "metadata": {},
   "outputs": [],
   "source": [
    "def compute_variance(β):\n",
    "    values = [(1/β) * (\n",
    "        W_0 \n",
    "        + α_1 * np.dot(A, W_1) \n",
    "        + α_2 * np.sum(np.triu(np.outer(A, A), 1) * W_2)\n",
    "    ) for A in layouts]\n",
    "    return np.var(values)\n",
    "\n",
    "def find_beta(desired_variance, initial_guess=10):\n",
    "    return scipy.optimize.fsolve(\n",
    "        lambda x: compute_variance(x) - desired_variance, \n",
    "        initial_guess\n",
    "    )"
   ]
  },
  {
   "cell_type": "code",
   "execution_count": 138,
   "id": "6bd1f7c6",
   "metadata": {},
   "outputs": [
    {
     "data": {
      "text/plain": [
       "array([8.20940517])"
      ]
     },
     "execution_count": 138,
     "metadata": {},
     "output_type": "execute_result"
    }
   ],
   "source": [
    "desired_variance = 0.02\n",
    "β = find_beta(desired_variance)\n",
    "β"
   ]
  },
  {
   "cell_type": "markdown",
   "id": "87c18c25",
   "metadata": {},
   "source": [
    "$P(R|A_1) = \\Phi ( R * B^T_A W)$"
   ]
  },
  {
   "cell_type": "code",
   "execution_count": 139,
   "id": "2c560f02",
   "metadata": {
    "scrolled": true
   },
   "outputs": [
    {
     "data": {
      "text/plain": [
       "array([0.14868835])"
      ]
     },
     "execution_count": 139,
     "metadata": {},
     "output_type": "execute_result"
    }
   ],
   "source": [
    "# In the paper they do not mention how they get the mean around 0.12\n",
    "# Here we subtract 0.3 from the values, as the mean is around 0.5\n",
    "scipy.stats.norm.cdf(\n",
    "    1 * (1 / β) * (\n",
    "        W_0 \n",
    "        + α_1 * np.dot(A_1, W_1) \n",
    "        + α_2 * np.sum(np.triu(np.outer(A_1, A_1), 1) * W_2)\n",
    "    )\n",
    ")"
   ]
  },
  {
   "cell_type": "markdown",
   "id": "45543918",
   "metadata": {},
   "source": [
    "* $A_2$ = [1, 0, 1]"
   ]
  },
  {
   "cell_type": "code",
   "execution_count": 140,
   "id": "0fd0b836",
   "metadata": {},
   "outputs": [
    {
     "data": {
      "text/plain": [
       "array([0, 1, 0, 1, 0], dtype=uint8)"
      ]
     },
     "execution_count": 140,
     "metadata": {},
     "output_type": "execute_result"
    }
   ],
   "source": [
    "A_2 = layouts[2]\n",
    "A_2"
   ]
  },
  {
   "cell_type": "markdown",
   "id": "a1a2e42d",
   "metadata": {},
   "source": [
    "$P(R|A_2) = \\Phi ( R * B^T_A W)$"
   ]
  },
  {
   "cell_type": "code",
   "execution_count": 141,
   "id": "728e2c27",
   "metadata": {},
   "outputs": [
    {
     "data": {
      "text/plain": [
       "array([0.11063753])"
      ]
     },
     "execution_count": 141,
     "metadata": {},
     "output_type": "execute_result"
    }
   ],
   "source": [
    "# In the paper they do not mention how they get the mean around 0.12\n",
    "# Here we subtract 0.3 from the values, as the mean is around 0.5\n",
    "scipy.stats.norm.cdf(\n",
    "    1 * (1 / β) * (\n",
    "        W_0 \n",
    "        + α_1 * np.dot(A_2, W_1) \n",
    "        + α_2 * np.sum(np.triu(np.outer(A_2, A_2), 1) * W_2)\n",
    "    )\n",
    ")"
   ]
  },
  {
   "cell_type": "code",
   "execution_count": 142,
   "id": "09accde0",
   "metadata": {},
   "outputs": [],
   "source": [
    "all_products = [\n",
    "    (1 / β) * (\n",
    "        W_0 \n",
    "        + α_1 * np.dot(A, W_1) \n",
    "        + α_2 * np.sum(np.triu(np.outer(A, A), 1) * W_2)\n",
    "    ) for A in layouts\n",
    "]"
   ]
  },
  {
   "cell_type": "code",
   "execution_count": 143,
   "id": "2cd36d04",
   "metadata": {},
   "outputs": [],
   "source": [
    "all_probabilities = [\n",
    "    scipy.stats.norm.cdf(\n",
    "        1 * product\n",
    "    )[0] for product in all_products\n",
    "]"
   ]
  },
  {
   "cell_type": "code",
   "execution_count": 144,
   "id": "75599f11",
   "metadata": {},
   "outputs": [
    {
     "data": {
      "text/plain": [
       "[0.1486883503427746,\n",
       " 0.13668180805548374,\n",
       " 0.11063752983964398,\n",
       " 0.0916533192804127,\n",
       " 0.07945939365182692,\n",
       " 0.08181289464680663]"
      ]
     },
     "execution_count": 144,
     "metadata": {},
     "output_type": "execute_result"
    }
   ],
   "source": [
    "all_probabilities"
   ]
  },
  {
   "cell_type": "code",
   "execution_count": 145,
   "id": "bc1bf1df",
   "metadata": {},
   "outputs": [
    {
     "data": {
      "text/plain": [
       "<AxesSubplot:ylabel='Count'>"
      ]
     },
     "execution_count": 145,
     "metadata": {},
     "output_type": "execute_result"
    },
    {
     "data": {
      "image/png": "[encoded data removed]",
      "text/plain": [
       "<Figure size 432x288 with 1 Axes>"
      ]
     },
     "metadata": {
      "needs_background": "light"
     },
     "output_type": "display_data"
    }
   ],
   "source": [
    "sns.histplot(all_probabilities)"
   ]
  },
  {
   "cell_type": "markdown",
   "id": "eb3305cf",
   "metadata": {},
   "source": [
    "## Example 2"
   ]
  },
  {
   "cell_type": "code",
   "execution_count": 87,
   "id": "dc641e58",
   "metadata": {},
   "outputs": [],
   "source": [
    "N_1 = 10\n",
    "N_2 = 15\n",
    "N = N_1 + N_2"
   ]
  },
  {
   "cell_type": "code",
   "execution_count": 88,
   "id": "7f471f51",
   "metadata": {},
   "outputs": [],
   "source": [
    "layouts = list(itertools.product(range(N_1), range(N_2)))\n",
    "layouts = pd.get_dummies(pd.DataFrame(layouts).astype(str), prefix=['header', 'image'])\n",
    "layouts = layouts.values"
   ]
  },
  {
   "cell_type": "code",
   "execution_count": 89,
   "id": "a9becb7a",
   "metadata": {},
   "outputs": [],
   "source": [
    "W_0 = -10\n",
    "W_1 = np.random.normal(size=N)\n",
    "W_2 = np.random.normal(size=(N, N))"
   ]
  },
  {
   "cell_type": "code",
   "execution_count": 90,
   "id": "7c673688",
   "metadata": {},
   "outputs": [],
   "source": [
    "α_1 = 1\n",
    "α_2 = 2"
   ]
  },
  {
   "cell_type": "code",
   "execution_count": 91,
   "id": "3e1fda5c",
   "metadata": {},
   "outputs": [],
   "source": [
    "def compute_variance(β):\n",
    "    values = [(1/β) * (\n",
    "        W_0 \n",
    "        + α_1 * np.dot(A, W_1) \n",
    "        + α_2 * np.sum(np.triu(np.outer(A, A), 1) * W_2)\n",
    "    ) for A in layouts]\n",
    "    return np.var(values)\n",
    "\n",
    "def find_beta(desired_variance, initial_guess=10):\n",
    "    return scipy.optimize.fsolve(\n",
    "        lambda x: compute_variance(x) - desired_variance, \n",
    "        initial_guess\n",
    "    )"
   ]
  },
  {
   "cell_type": "code",
   "execution_count": 92,
   "id": "276ea60b",
   "metadata": {},
   "outputs": [
    {
     "data": {
      "text/plain": [
       "array([16.7059687])"
      ]
     },
     "execution_count": 92,
     "metadata": {},
     "output_type": "execute_result"
    }
   ],
   "source": [
    "desired_variance = 0.02\n",
    "β = find_beta(desired_variance)\n",
    "β"
   ]
  },
  {
   "cell_type": "code",
   "execution_count": 93,
   "id": "54dfda42",
   "metadata": {},
   "outputs": [],
   "source": [
    "all_products = [\n",
    "    (1 / β) * (\n",
    "        W_0 \n",
    "        + α_1 * np.dot(A, W_1) \n",
    "        + α_2 * np.sum(np.triu(np.outer(A, A), 1) * W_2)\n",
    "    ) for A in layouts\n",
    "]"
   ]
  },
  {
   "cell_type": "code",
   "execution_count": 96,
   "id": "6bd4487f",
   "metadata": {},
   "outputs": [],
   "source": [
    "all_probabilities = [\n",
    "    scipy.stats.norm.cdf(\n",
    "        1 * product\n",
    "    )[0] for product in all_products\n",
    "]"
   ]
  },
  {
   "cell_type": "code",
   "execution_count": 97,
   "id": "19788631",
   "metadata": {},
   "outputs": [
    {
     "data": {
      "text/plain": [
       "<AxesSubplot:ylabel='Count'>"
      ]
     },
     "execution_count": 97,
     "metadata": {},
     "output_type": "execute_result"
    },
    {
     "data": {
      "image/png": "[encoded data removed]",
      "text/plain": [
       "<Figure size 432x288 with 1 Axes>"
      ]
     },
     "metadata": {
      "needs_background": "light"
     },
     "output_type": "display_data"
    }
   ],
   "source": [
    "sns.histplot(all_probabilities)"
   ]
  },
  {
   "cell_type": "code",
   "execution_count": null,
   "id": "80484bf5",
   "metadata": {},
   "outputs": [],
   "source": []
  }
 ],
 "metadata": {
  "kernelspec": {
   "display_name": "Python 3 (ipykernel)",
   "language": "python",
   "name": "python3"
  },
  "language_info": {
   "codemirror_mode": {
    "name": "ipython",
    "version": 3
   },
   "file_extension": ".py",
   "mimetype": "text/x-python",
   "name": "python",
   "nbconvert_exporter": "python",
   "pygments_lexer": "ipython3",
   "version": "3.9.7"
  }
 },
 "nbformat": 4,
 "nbformat_minor": 5
}

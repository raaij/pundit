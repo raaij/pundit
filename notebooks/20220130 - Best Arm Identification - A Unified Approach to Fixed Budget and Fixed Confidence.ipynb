{
 "cells": [
  {
   "cell_type": "code",
   "execution_count": 1,
   "id": "a4185816",
   "metadata": {},
   "outputs": [],
   "source": [
    "import random\n",
    "import math\n",
    "import numpy as np"
   ]
  },
  {
   "cell_type": "markdown",
   "id": "6161a679",
   "metadata": {},
   "source": [
    "#### Environment\n",
    "\n"
   ]
  },
  {
   "cell_type": "code",
   "execution_count": 2,
   "id": "8b58d7f2",
   "metadata": {},
   "outputs": [],
   "source": [
    "class Environment:\n",
    "    def __init__(self, proba):\n",
    "        self.proba = proba\n",
    "    \n",
    "    def do(self, action):\n",
    "        reward = 1 if random.random() < self.proba[action] else 0\n",
    "        return reward\n",
    "\n",
    "    @property\n",
    "    def number_of_actions(self):\n",
    "        return len(self.proba)"
   ]
  },
  {
   "cell_type": "markdown",
   "id": "bb90bdfb",
   "metadata": {},
   "source": [
    "#### Bandit"
   ]
  },
  {
   "cell_type": "code",
   "execution_count": 3,
   "id": "23fbd1c1",
   "metadata": {},
   "outputs": [],
   "source": [
    "class UGapE:\n",
    "    def __init__(self, ϵ, m, env, *args, **kwargs):\n",
    "        # TODO: Make it work for more than 1 arm?\n",
    "        assert m == 1\n",
    "        \n",
    "        self.ϵ = ϵ\n",
    "        self.m = m\n",
    "        self.env = env\n",
    "        \n",
    "        self.arms = list(range(env.number_of_actions))\n",
    "        self._rewards = {arm: [] for arm in self.arms}\n",
    "        \n",
    "        for param in ['β', 'U', 'L', 'B']:\n",
    "            setattr(self, param, None)\n",
    "        \n",
    "        self.t = 1\n",
    "    \n",
    "    def play_round(self):\n",
    "        action = self.get_action()\n",
    "        reward = self.env.do(action)\n",
    "        self.update(action, reward)\n",
    "    \n",
    "    def get_action(self):\n",
    "        # Check if any arm has not been pulled\n",
    "        for arm in self.arms:\n",
    "            if not len(self._rewards[arm]):\n",
    "                return arm\n",
    "        \n",
    "        # Stop condition ?\n",
    "        μ = np.array([np.mean(self._rewards[arm]) for arm in self.arms])\n",
    "        T = np.array([len(self._rewards[arm]) for arm in self.arms])\n",
    "        self.β = self.compute_β(T=T)\n",
    "        self.L, self.U = μ - self.β, μ + self.β\n",
    "        self.B = self.compute_B()\n",
    "        \n",
    "        J = np.argmin(self.B)\n",
    "        l = J\n",
    "        # TODO: Shorter code?\n",
    "        u, u_value = None, None\n",
    "        for arm in set(self.arms) - {J}:\n",
    "            if u == None or self.U[arm] > u_value:\n",
    "                u, u_value = arm, self.U[arm]\n",
    "        print(u)\n",
    "        I = l if self.β[l] >= self.β[u] else u        \n",
    "        return I\n",
    "        \n",
    "    def update(self, action, reward):\n",
    "        self._rewards[action].append(reward)\n",
    "        self.t += 1\n",
    "    \n",
    "    def compute_β(self, *args, **kwargs):\n",
    "        raise NotImplementedError()\n",
    "    \n",
    "    def compute_B(self):\n",
    "        # TODO - Make this more efficient?\n",
    "        B = []\n",
    "        for k in self.arms:\n",
    "            B.append(max([\n",
    "                self.U[i] - self.L[k] for i in set(self.arms) - {k}\n",
    "            ]))\n",
    "        return B\n",
    "\n",
    "class UGapEb(UGapE):\n",
    "    def __init__(self, ϵ, m, n, a, *args, **kwargs):\n",
    "        super().__init__(ϵ, m, *args, **kwargs)\n",
    "        self.n = n\n",
    "        self.a = a\n",
    "    \n",
    "    def compute_β(self, T, *args, **kwargs):\n",
    "        b = 1  # TODO - Should be a parameter\n",
    "        return b * np.sqrt(self.a / T)\n",
    "\n",
    "class UGapEc(UGapE):\n",
    "    def __init__(self, ϵ, m, δ, c, *args, **kwargs):\n",
    "        super().__init__(ϵ, m, *args, **kwargs)\n",
    "        self.δ = δ\n",
    "        self.c = c\n",
    "    \n",
    "    def compute_β(self, T, *args, **kwargs):\n",
    "        b = 1  # TODO - Should be a parameter\n",
    "        K = len(self.arms)\n",
    "        \n",
    "        return b * np.sqrt(\n",
    "            (self.c * math.log((4 * K * (self.t - 1) ** 3) / self.δ)) / \n",
    "            T\n",
    "        )"
   ]
  },
  {
   "cell_type": "code",
   "execution_count": 4,
   "id": "b9248f0f",
   "metadata": {},
   "outputs": [
    {
     "data": {
      "text/plain": [
       "1"
      ]
     },
     "execution_count": 4,
     "metadata": {},
     "output_type": "execute_result"
    }
   ],
   "source": [
    "env = Environment([0.5, 0.2, 0.9, 0.6, 0.7, 0.1])\n",
    "env.do(2)"
   ]
  },
  {
   "cell_type": "code",
   "execution_count": 6,
   "id": "dd557639",
   "metadata": {},
   "outputs": [],
   "source": [
    "from pundit.bandits import UGapEc"
   ]
  },
  {
   "cell_type": "code",
   "execution_count": 7,
   "id": "37cce942",
   "metadata": {},
   "outputs": [],
   "source": [
    "algo = UGapEc(\n",
    "    ϵ=0.01, m=1, δ=0.05, c=0.5, env=env\n",
    ")"
   ]
  },
  {
   "cell_type": "code",
   "execution_count": 8,
   "id": "9e2f323a",
   "metadata": {},
   "outputs": [],
   "source": [
    "for _ in range(2_000):\n",
    "    algo.play_round()"
   ]
  },
  {
   "cell_type": "code",
   "execution_count": 9,
   "id": "799edd63",
   "metadata": {},
   "outputs": [
    {
     "data": {
      "text/plain": [
       "[0.9781879408429209,\n",
       " 1.5333375756238947,\n",
       " 0.0790066087846435,\n",
       " 0.5874322735098487,\n",
       " 0.48938255622892357,\n",
       " 1.49421478232296]"
      ]
     },
     "execution_count": 9,
     "metadata": {},
     "output_type": "execute_result"
    }
   ],
   "source": [
    "algo.B"
   ]
  }
 ],
 "metadata": {
  "kernelspec": {
   "display_name": "Python 3 (ipykernel)",
   "language": "python",
   "name": "python3"
  },
  "language_info": {
   "codemirror_mode": {
    "name": "ipython",
    "version": 3
   },
   "file_extension": ".py",
   "mimetype": "text/x-python",
   "name": "python",
   "nbconvert_exporter": "python",
   "pygments_lexer": "ipython3",
   "version": "3.9.7"
  }
 },
 "nbformat": 4,
 "nbformat_minor": 5
}
